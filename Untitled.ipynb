{
 "cells": [
  {
   "cell_type": "code",
   "execution_count": 1,
   "metadata": {},
   "outputs": [],
   "source": [
    "import numpy as np\n",
    "import matplotlib.pyplot as plt\n",
    "import scipy.optimize as opt\n",
    "α = 10\n",
    "βp = 1.5\n",
    "βw = 7.1\n",
    "cf = 5\n",
    "γ = -0.8"
   ]
  },
  {
   "cell_type": "code",
   "execution_count": 6,
   "metadata": {},
   "outputs": [
    {
     "data": {
      "text/plain": [
       "    fjac: array([[-1.]])\n",
       "     fun: array([0.])\n",
       " message: 'The solution converged.'\n",
       "    nfev: 11\n",
       "     qtf: array([8.76774209e-11])\n",
       "       r: array([-1.68838008])\n",
       "  status: 1\n",
       " success: True\n",
       "       x: array([2.17887353])"
      ]
     },
     "execution_count": 6,
     "metadata": {},
     "output_type": "execute_result"
    }
   ],
   "source": [
    "Q = lambda p,f: α - βp*p - βw/(2*f)\n",
    "\n",
    "f = 2.\n",
    "opt.root(lambda p: Q(p,f)*p - γ - cf*f, x0=.1)"
   ]
  },
  {
   "cell_type": "code",
   "execution_count": 15,
   "metadata": {},
   "outputs": [
    {
     "data": {
      "text/plain": [
       "Text(0, 0.5, 'p')"
      ]
     },
     "execution_count": 15,
     "metadata": {},
     "output_type": "execute_result"
    },
    {
     "data": {
      "image/png": "[encoded data removed]",
      "text/plain": [
       "<Figure size 432x288 with 1 Axes>"
      ]
     },
     "metadata": {
      "needs_background": "light"
     },
     "output_type": "display_data"
    }
   ],
   "source": [
    "def findP(f):\n",
    "    return opt.root(lambda p: Q(p,f)*p + γ - cf*f, x0=0.8).x[0]\n",
    "\n",
    "fs = np.linspace(0.8,2.1,50)\n",
    "ps = np.vectorize(findP)(fs)\n",
    "qs = Q(ps,fs)\n",
    "# qs = np.vectorize(Q)(ps,fs)\n",
    "plt.plot(qs,ps)\n",
    "plt.xlabel('q')\n",
    "plt.ylabel('p')\n",
    "# np.vectorize(findP)"
   ]
  },
  {
   "cell_type": "code",
   "execution_count": null,
   "metadata": {},
   "outputs": [],
   "source": []
  }
 ],
 "metadata": {
  "kernelspec": {
   "display_name": "Python 3",
   "language": "python",
   "name": "python3"
  },
  "language_info": {
   "codemirror_mode": {
    "name": "ipython",
    "version": 3
   },
   "file_extension": ".py",
   "mimetype": "text/x-python",
   "name": "python",
   "nbconvert_exporter": "python",
   "pygments_lexer": "ipython3",
   "version": "3.8.3"
  }
 },
 "nbformat": 4,
 "nbformat_minor": 4
}
