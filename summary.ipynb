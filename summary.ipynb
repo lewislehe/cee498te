{
 "cells": [
  {
   "cell_type": "markdown",
   "metadata": {},
   "source": [
    "# Import packages"
   ]
  },
  {
   "cell_type": "code",
   "execution_count": 11,
   "metadata": {},
   "outputs": [],
   "source": [
    "import numpy as np\n",
    "import matplotlib.pyplot as plt\n",
    "import statsmodels.api as sm\n",
    "import scipy.optimize as opt\n",
    "import pandas as pd\n",
    "plt.style.use('ggplot')"
   ]
  },
  {
   "cell_type": "markdown",
   "metadata": {},
   "source": [
    "# Printing"
   ]
  },
  {
   "cell_type": "code",
   "execution_count": 17,
   "metadata": {},
   "outputs": [
    {
     "name": "stdout",
     "output_type": "stream",
     "text": [
      "the answer is h1=0.04 h2=0.68\n",
      "the answer to question 1 is h1=0.04 \n",
      "the answer to question 2 is h2=0.68\n"
     ]
    }
   ],
   "source": [
    "h1 = np.random.normal()\n",
    "h2 = np.random.normal()\n",
    "#print it rounded to two decimal places\n",
    "print(\"the answer is h1={:.2f} h2={:.2f}\".format(h1,h2))\n",
    "# add a line break in\n",
    "print(\"the answer to question 1 is h1={:.2f} \\nthe answer to question 2 is h2={:.2f}\".format(h1,h2))"
   ]
  },
  {
   "cell_type": "markdown",
   "metadata": {},
   "source": [
    "# Plotting with matplotlib"
   ]
  },
  {
   "cell_type": "code",
   "execution_count": 47,
   "metadata": {},
   "outputs": [
    {
     "data": {
      "text/plain": [
       "<matplotlib.legend.Legend at 0x1d66c15edf0>"
      ]
     },
     "execution_count": 47,
     "metadata": {},
     "output_type": "execute_result"
    },
    {
     "data": {
      "image/png": "[encoded data removed]",
      "text/plain": [
       "<Figure size 432x288 with 1 Axes>"
      ]
     },
     "metadata": {},
     "output_type": "display_data"
    }
   ],
   "source": [
    "ps = np.linspace(0,2,30) #prices\n",
    "xs1 = np.exp(-ps) #resulting demand from x(p)=e^-p\n",
    "xs2 = 4-3*ps #resulting demand from x(p)=4-3*p\n",
    "\n",
    "#plot inverse demand functions\n",
    "\n",
    "plt.plot(xs1,ps,color='blue',label='P1',alpha=0.7)\n",
    "plt.plot(xs2,ps,color='red',label='P2',alpha=0.7)\n",
    "plt.xlim(0,plt.xlim()[1])\n",
    "plt.ylim(0,plt.ylim()[1])\n",
    "plt.xlabel('x')\n",
    "plt.ylabel('$')\n",
    "plt.legend() #create a legend"
   ]
  },
  {
   "cell_type": "markdown",
   "metadata": {},
   "source": [
    "# Pandas basics"
   ]
  },
  {
   "cell_type": "code",
   "execution_count": 33,
   "metadata": {},
   "outputs": [
    {
     "data": {
      "text/html": [
       "<div>\n",
       "<style scoped>\n",
       "    .dataframe tbody tr th:only-of-type {\n",
       "        vertical-align: middle;\n",
       "    }\n",
       "\n",
       "    .dataframe tbody tr th {\n",
       "        vertical-align: top;\n",
       "    }\n",
       "\n",
       "    .dataframe thead th {\n",
       "        text-align: right;\n",
       "    }\n",
       "</style>\n",
       "<table border=\"1\" class=\"dataframe\">\n",
       "  <thead>\n",
       "    <tr style=\"text-align: right;\">\n",
       "      <th></th>\n",
       "      <th>A</th>\n",
       "      <th>x</th>\n",
       "      <th>C</th>\n",
       "    </tr>\n",
       "  </thead>\n",
       "  <tbody>\n",
       "    <tr>\n",
       "      <th>0</th>\n",
       "      <td>2.009797</td>\n",
       "      <td>0.000000</td>\n",
       "      <td>-1.078295</td>\n",
       "    </tr>\n",
       "    <tr>\n",
       "      <th>1</th>\n",
       "      <td>1.834394</td>\n",
       "      <td>0.102041</td>\n",
       "      <td>2.469968</td>\n",
       "    </tr>\n",
       "    <tr>\n",
       "      <th>2</th>\n",
       "      <td>0.441356</td>\n",
       "      <td>0.204082</td>\n",
       "      <td>0.092812</td>\n",
       "    </tr>\n",
       "    <tr>\n",
       "      <th>3</th>\n",
       "      <td>0.094743</td>\n",
       "      <td>0.306122</td>\n",
       "      <td>-0.307717</td>\n",
       "    </tr>\n",
       "    <tr>\n",
       "      <th>5</th>\n",
       "      <td>0.806045</td>\n",
       "      <td>0.510204</td>\n",
       "      <td>3.425348</td>\n",
       "    </tr>\n",
       "  </tbody>\n",
       "</table>\n",
       "</div>"
      ],
      "text/plain": [
       "          A         x         C\n",
       "0  2.009797  0.000000 -1.078295\n",
       "1  1.834394  0.102041  2.469968\n",
       "2  0.441356  0.204082  0.092812\n",
       "3  0.094743  0.306122 -0.307717\n",
       "5  0.806045  0.510204  3.425348"
      ]
     },
     "execution_count": 33,
     "metadata": {},
     "output_type": "execute_result"
    }
   ],
   "source": [
    "#make a DataFrame\n",
    "N = 50\n",
    "df = pd.DataFrame({'A': np.random.normal(0,1,N),'B':np.random.beta(1,1,N), 'x': np.linspace(0,5,N)})\n",
    "df.head()\n",
    "\n",
    "# add a column\n",
    "df['C'] = np.random.normal(.5,1,N)\n",
    "\n",
    "#drop a column\n",
    "df = df.drop('B',axis=1)\n",
    "\n",
    "#filter the rows where A is positive\n",
    "df = df[df.A>=0]\n",
    "df.head()"
   ]
  },
  {
   "cell_type": "markdown",
   "metadata": {},
   "source": [
    "## Scatter plot from pandas dataframe"
   ]
  },
  {
   "cell_type": "code",
   "execution_count": 69,
   "metadata": {},
   "outputs": [
    {
     "data": {
      "text/plain": [
       "Text(0, 0.5, 'draw')"
      ]
     },
     "execution_count": 69,
     "metadata": {},
     "output_type": "execute_result"
    },
    {
     "data": {
      "image/png": "[encoded data removed]",
      "text/plain": [
       "<Figure size 432x288 with 1 Axes>"
      ]
     },
     "metadata": {},
     "output_type": "display_data"
    }
   ],
   "source": [
    "# plot as scatter\n",
    "ax = df.plot('x','A',kind='scatter',color='red',alpha=0.5,label='A') #make sure to declare a label\n",
    "df.plot('x','C',kind='scatter', ax=ax,color='blue',alpha=0.5,label='C')\n",
    "ax.legend() #show a legend\n",
    "ax.set_xlabel(\"x\") #set the xlabel\n",
    "ax.set_ylabel(\"draw\") #set the y label"
   ]
  },
  {
   "cell_type": "code",
   "execution_count": 52,
   "metadata": {},
   "outputs": [
    {
     "data": {
      "text/html": [
       "<div>\n",
       "<style scoped>\n",
       "    .dataframe tbody tr th:only-of-type {\n",
       "        vertical-align: middle;\n",
       "    }\n",
       "\n",
       "    .dataframe tbody tr th {\n",
       "        vertical-align: top;\n",
       "    }\n",
       "\n",
       "    .dataframe thead th {\n",
       "        text-align: right;\n",
       "    }\n",
       "</style>\n",
       "<table border=\"1\" class=\"dataframe\">\n",
       "  <thead>\n",
       "    <tr style=\"text-align: right;\">\n",
       "      <th></th>\n",
       "      <th>A</th>\n",
       "      <th>x</th>\n",
       "      <th>C</th>\n",
       "      <th>result1</th>\n",
       "      <th>result2</th>\n",
       "    </tr>\n",
       "  </thead>\n",
       "  <tbody>\n",
       "    <tr>\n",
       "      <th>0</th>\n",
       "      <td>2.009797</td>\n",
       "      <td>0.000000</td>\n",
       "      <td>-1.078295</td>\n",
       "      <td>4.019594</td>\n",
       "      <td>-0.539148</td>\n",
       "    </tr>\n",
       "    <tr>\n",
       "      <th>1</th>\n",
       "      <td>1.834394</td>\n",
       "      <td>0.102041</td>\n",
       "      <td>2.469968</td>\n",
       "      <td>3.668789</td>\n",
       "      <td>1.234984</td>\n",
       "    </tr>\n",
       "    <tr>\n",
       "      <th>2</th>\n",
       "      <td>0.441356</td>\n",
       "      <td>0.204082</td>\n",
       "      <td>0.092812</td>\n",
       "      <td>0.882712</td>\n",
       "      <td>0.046406</td>\n",
       "    </tr>\n",
       "    <tr>\n",
       "      <th>3</th>\n",
       "      <td>0.094743</td>\n",
       "      <td>0.306122</td>\n",
       "      <td>-0.307717</td>\n",
       "      <td>0.189486</td>\n",
       "      <td>-0.153859</td>\n",
       "    </tr>\n",
       "    <tr>\n",
       "      <th>5</th>\n",
       "      <td>0.806045</td>\n",
       "      <td>0.510204</td>\n",
       "      <td>3.425348</td>\n",
       "      <td>1.612091</td>\n",
       "      <td>1.712674</td>\n",
       "    </tr>\n",
       "  </tbody>\n",
       "</table>\n",
       "</div>"
      ],
      "text/plain": [
       "          A         x         C   result1   result2\n",
       "0  2.009797  0.000000 -1.078295  4.019594 -0.539148\n",
       "1  1.834394  0.102041  2.469968  3.668789  1.234984\n",
       "2  0.441356  0.204082  0.092812  0.882712  0.046406\n",
       "3  0.094743  0.306122 -0.307717  0.189486 -0.153859\n",
       "5  0.806045  0.510204  3.425348  1.612091  1.712674"
      ]
     },
     "execution_count": 52,
     "metadata": {},
     "output_type": "execute_result"
    }
   ],
   "source": [
    "# iterate an operation over rows\n",
    "#this is too simple to do in this way really but you get the gist\n",
    "df[['result1','result2']] = df.apply(lambda row: [row.A*2,row.C/2], result_type='expand',axis=1) \n",
    "df.head()"
   ]
  },
  {
   "cell_type": "markdown",
   "metadata": {},
   "source": [
    "# Unconstrained Maximization\n",
    "\n",
    "You have a demand function \n",
    "$$X(p) = 10 - 2p,$$\n",
    "where \\(p\\) is price. And total cost function\n",
    "$$TC(x) = 2 + 1.5x.$$\n",
    "\n",
    "You want to maximize profit."
   ]
  },
  {
   "cell_type": "code",
   "execution_count": 8,
   "metadata": {},
   "outputs": [
    {
     "name": "stdout",
     "output_type": "stream",
     "text": [
      "So the profit-maximizing quantity is 3.50\n",
      "and the profit-maximizing price is 3.25\n"
     ]
    },
    {
     "data": {
      "image/png": "[encoded data removed]",
      "text/plain": [
       "<Figure size 432x288 with 1 Axes>"
      ]
     },
     "metadata": {},
     "output_type": "display_data"
    }
   ],
   "source": [
    "#start out by creating the functions\n",
    "X = lambda p: 10 - 2*p #demand\n",
    "P = lambda x: .5*(10-x) #inverse demand, with x as demand\n",
    "TC = lambda x: 2+1.5*x #total cost\n",
    "TR = lambda x: x*P(x) #total revenue\n",
    "π = lambda x: TR(x) - TC(x) #profit\n",
    "\n",
    "# now plot\n",
    "xs = np.linspace(.1,10,40)\n",
    "πs = π(xs)\n",
    "plt.plot(xs,πs)\n",
    "plt.ylim(0,5)\n",
    "\n",
    "#now calculcate where the profit is maximized by minimumizing the *negative* of profit\n",
    "res =opt.minimize_scalar(lambda x: -π(x), bounds=(2, 6), method='bounded')\n",
    "print(\"So the profit-maximizing quantity is {:.2f}\".format(res.x))\n",
    "print(\"and the profit-maximizing price is {:.2f}\".format(P(res.x)))"
   ]
  },
  {
   "cell_type": "markdown",
   "metadata": {},
   "source": [
    "# Constrained Maximization\n",
    "\n",
    "In this problem, we have an inverse demand function, and we want to maximize revenue subject to the condition that profit $\\pi$ is at least $\\pi_{\\min}$."
   ]
  },
  {
   "cell_type": "code",
   "execution_count": 9,
   "metadata": {},
   "outputs": [
    {
     "name": "stdout",
     "output_type": "stream",
     "text": [
      "The optimal values are x=0.60, P=1.50, π=0.78, TR=0.90\n"
     ]
    }
   ],
   "source": [
    "π_min = 0.3\n",
    "P = lambda x: 3 - 2.5*x\n",
    "TR = lambda x: P(x)*x\n",
    "c = .2 #marginal cost/variable cost per ride\n",
    "C = lambda x: c*x\n",
    "π = lambda x: TR(x) - C(x)\n",
    "\n",
    "\n",
    "def fun(x):\n",
    "    x = x[0]\n",
    "    return np.array([\n",
    "        π(x)- π_min\n",
    "    ])\n",
    "\n",
    "constraints = {'type': 'ineq', 'fun': fun}\n",
    "res = opt.minimize(lambda x: -TR(x[0]), x0=(1.0), constraints=constraints, bounds=((0,None),))\n",
    "xstar = res.x[0]\n",
    "print(\"The optimal values are x={:.2f}, P={:.2f}, π={:.2f}, TR={:.2f}\".format(xstar,P(xstar),π(xstar),TR(xstar)))"
   ]
  },
  {
   "cell_type": "markdown",
   "metadata": {},
   "source": [
    "# Logit"
   ]
  },
  {
   "cell_type": "code",
   "execution_count": 12,
   "metadata": {},
   "outputs": [
    {
     "name": "stdout",
     "output_type": "stream",
     "text": [
      "Optimization terminated successfully.\n",
      "         Current function value: 0.387862\n",
      "         Iterations 6\n"
     ]
    },
    {
     "data": {
      "text/html": [
       "<table class=\"simpletable\">\n",
       "<caption>Logit Regression Results</caption>\n",
       "<tr>\n",
       "  <th>Dep. Variable:</th>       <td>P_actual</td>     <th>  No. Observations:  </th>   <td>  2000</td>  \n",
       "</tr>\n",
       "<tr>\n",
       "  <th>Model:</th>                 <td>Logit</td>      <th>  Df Residuals:      </th>   <td>  1995</td>  \n",
       "</tr>\n",
       "<tr>\n",
       "  <th>Method:</th>                 <td>MLE</td>       <th>  Df Model:          </th>   <td>     4</td>  \n",
       "</tr>\n",
       "<tr>\n",
       "  <th>Date:</th>            <td>Mon, 08 Mar 2021</td> <th>  Pseudo R-squ.:     </th>   <td>0.3688</td>  \n",
       "</tr>\n",
       "<tr>\n",
       "  <th>Time:</th>                <td>07:05:52</td>     <th>  Log-Likelihood:    </th>  <td> -775.72</td> \n",
       "</tr>\n",
       "<tr>\n",
       "  <th>converged:</th>             <td>True</td>       <th>  LL-Null:           </th>  <td> -1229.0</td> \n",
       "</tr>\n",
       "<tr>\n",
       "  <th>Covariance Type:</th>     <td>nonrobust</td>    <th>  LLR p-value:       </th> <td>6.321e-195</td>\n",
       "</tr>\n",
       "</table>\n",
       "<table class=\"simpletable\">\n",
       "<tr>\n",
       "     <td></td>        <th>coef</th>     <th>std err</th>      <th>z</th>      <th>P>|z|</th>  <th>[0.025</th>    <th>0.975]</th>  \n",
       "</tr>\n",
       "<tr>\n",
       "  <th>const</th>   <td>   -0.5023</td> <td>    0.520</td> <td>   -0.967</td> <td> 0.334</td> <td>   -1.521</td> <td>    0.516</td>\n",
       "</tr>\n",
       "<tr>\n",
       "  <th>t_rail</th>  <td>   -2.9606</td> <td>    0.188</td> <td>  -15.767</td> <td> 0.000</td> <td>   -3.329</td> <td>   -2.593</td>\n",
       "</tr>\n",
       "<tr>\n",
       "  <th>t_truck</th> <td>    2.9542</td> <td>    0.203</td> <td>   14.523</td> <td> 0.000</td> <td>    2.556</td> <td>    3.353</td>\n",
       "</tr>\n",
       "<tr>\n",
       "  <th>c_rail</th>  <td>   -1.4419</td> <td>    0.232</td> <td>   -6.206</td> <td> 0.000</td> <td>   -1.897</td> <td>   -0.987</td>\n",
       "</tr>\n",
       "<tr>\n",
       "  <th>c_truck</th> <td>    1.4622</td> <td>    0.117</td> <td>   12.454</td> <td> 0.000</td> <td>    1.232</td> <td>    1.692</td>\n",
       "</tr>\n",
       "</table>"
      ],
      "text/plain": [
       "<class 'statsmodels.iolib.summary.Summary'>\n",
       "\"\"\"\n",
       "                           Logit Regression Results                           \n",
       "==============================================================================\n",
       "Dep. Variable:               P_actual   No. Observations:                 2000\n",
       "Model:                          Logit   Df Residuals:                     1995\n",
       "Method:                           MLE   Df Model:                            4\n",
       "Date:                Mon, 08 Mar 2021   Pseudo R-squ.:                  0.3688\n",
       "Time:                        07:05:52   Log-Likelihood:                -775.72\n",
       "converged:                       True   LL-Null:                       -1229.0\n",
       "Covariance Type:            nonrobust   LLR p-value:                6.321e-195\n",
       "==============================================================================\n",
       "                 coef    std err          z      P>|z|      [0.025      0.975]\n",
       "------------------------------------------------------------------------------\n",
       "const         -0.5023      0.520     -0.967      0.334      -1.521       0.516\n",
       "t_rail        -2.9606      0.188    -15.767      0.000      -3.329      -2.593\n",
       "t_truck        2.9542      0.203     14.523      0.000       2.556       3.353\n",
       "c_rail        -1.4419      0.232     -6.206      0.000      -1.897      -0.987\n",
       "c_truck        1.4622      0.117     12.454      0.000       1.232       1.692\n",
       "==============================================================================\n",
       "\"\"\""
      ]
     },
     "execution_count": 12,
     "metadata": {},
     "output_type": "execute_result"
    }
   ],
   "source": [
    "data = pd.read_csv(\"logit_truck_rail.csv\",index_col=\"route_index\") #i use the index_col keyword argument to tell pandas  to use the route_index as an index\n",
    "# exogenous data for logit\n",
    "exog = data.drop('P_actual',axis=1) # i can use .drop to drop the P_actual from it. check documentation https://pandas.pydata.org/pandas-docs/stable/reference/api/pandas.DataFrame.drop.html \n",
    "# or i could do exog = data[['c_rail,t_rail,c_truck,t_truck']]\n",
    "exog = sm.add_constant(exog) # add the one column\n",
    "res = sm.Logit(data.P_actual,exog).fit()\n",
    "res.summary()"
   ]
  },
  {
   "cell_type": "code",
   "execution_count": 13,
   "metadata": {},
   "outputs": [
    {
     "data": {
      "text/plain": [
       "const     -0.502313\n",
       "t_rail    -2.960566\n",
       "t_truck    2.954245\n",
       "c_rail    -1.441923\n",
       "c_truck    1.462242\n",
       "dtype: float64"
      ]
     },
     "execution_count": 13,
     "metadata": {},
     "output_type": "execute_result"
    }
   ],
   "source": [
    "#res.params tells you the coefficients\n",
    "res.params"
   ]
  },
  {
   "cell_type": "markdown",
   "metadata": {},
   "source": [
    "# Root finding"
   ]
  },
  {
   "cell_type": "markdown",
   "metadata": {},
   "source": [
    "Suppose you want to solve the equation $$x e^x = 2x + 1.$$\n",
    "\n",
    "Rewrite it as $$x e^x - 2x - 1=0$$ and seek the root."
   ]
  },
  {
   "cell_type": "code",
   "execution_count": 67,
   "metadata": {},
   "outputs": [
    {
     "name": "stdout",
     "output_type": "stream",
     "text": [
      "      converged: True\n",
      "           flag: 'converged'\n",
      " function_calls: 11\n",
      "     iterations: 10\n",
      "           root: 1.075063144774534\n",
      "the root is 1.08\n"
     ]
    },
    {
     "data": {
      "image/png": "[encoded data removed]",
      "text/plain": [
       "<Figure size 432x288 with 1 Axes>"
      ]
     },
     "metadata": {},
     "output_type": "display_data"
    }
   ],
   "source": [
    "f = lambda x: x*np.exp(x) - 2*x - 1\n",
    "\n",
    "#plot it to get an idea\n",
    "xs = np.linspace(-1,2,40)\n",
    "fs = f(xs)\n",
    "plt.plot(xs,fs)\n",
    "\n",
    "#from the plot we can see that there is a root around 1. i want to see that one.\n",
    "\n",
    "res = opt.root_scalar(f,bracket=[.1,1.5]) #the two points of the bracket must give f(x) on opposite sides of zero (one positive, one negative)\n",
    "print(res)\n",
    "print(\"the root is {:.2f}\".format(res.root))"
   ]
  }
 ],
 "metadata": {
  "kernelspec": {
   "display_name": "Python 3",
   "language": "python",
   "name": "python3"
  },
  "language_info": {
   "codemirror_mode": {
    "name": "ipython",
    "version": 3
   },
   "file_extension": ".py",
   "mimetype": "text/x-python",
   "name": "python",
   "nbconvert_exporter": "python",
   "pygments_lexer": "ipython3",
   "version": "3.8.3"
  }
 },
 "nbformat": 4,
 "nbformat_minor": 4
}
