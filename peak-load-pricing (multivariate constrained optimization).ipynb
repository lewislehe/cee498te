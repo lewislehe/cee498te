{
 "cells": [
  {
   "cell_type": "code",
   "execution_count": 4,
   "metadata": {},
   "outputs": [],
   "source": [
    "import numpy as np\n",
    "import scipy.optimize as opt\n",
    "import matplotlib.pyplot as plt\n",
    "plt.style.use('ggplot')"
   ]
  },
  {
   "cell_type": "code",
   "execution_count": 6,
   "metadata": {},
   "outputs": [
    {
     "data": {
      "text/plain": [
       "<matplotlib.legend.Legend at 0x21c35510ca0>"
      ]
     },
     "execution_count": 6,
     "metadata": {},
     "output_type": "execute_result"
    },
    {
     "data": {
      "image/png": "[encoded data removed]",
      "text/plain": [
       "<Figure size 432x288 with 1 Axes>"
      ]
     },
     "metadata": {},
     "output_type": "display_data"
    }
   ],
   "source": [
    "# peak inverse demand\n",
    "P1 = lambda x1: 4 - 1.2 *x1\n",
    "P2 = lambda x2: 3 - 1.4 * x2\n",
    "\n",
    "xs = np.linspace(0,2,50)\n",
    "P1s = P1(xs)\n",
    "P2s = P2(xs)\n",
    "plt.plot(xs,P1s,label=\"P1\")\n",
    "plt.plot(xs,P2s,label=\"P2\")\n",
    "plt.ylabel(\"p\")\n",
    "plt.xlabel(\"x\")\n",
    "plt.legend()"
   ]
  },
  {
   "cell_type": "markdown",
   "metadata": {},
   "source": [
    "# The problem\n",
    "Maximize total ridership, subject to a constraint: that profit be greater than or equal to zero (i.e., a break-even constraint).\n",
    "\n",
    "\n",
    "Let $k$ stand for capacity of the system.\n",
    "\n",
    "\n",
    "$$\n",
    "\\begin{split}\n",
    "\\max_{x_1,x_2,k} x_1 + x_2 \\\\\n",
    "\\text{s.t.    }   0 \\leq k-x_1 \\\\\n",
    "  0 \\leq k - x_2 \\\\\n",
    "  0 \\leq \\pi\n",
    "\\end{split}\n",
    "$$\n",
    "\n",
    "Profit constraint:\n",
    "$$\n",
    "\\pi \\geq 0\n",
    "$$\n",
    "\n",
    "$$\n",
    "TR = x_1 P_1(x_1) + x_2 P_2(x_2)\n",
    "$$\n",
    "$$\n",
    "C = c_x\\cdot (x_1 + x_2) + c_k k\n",
    "$$\n",
    "\n",
    "$$\n",
    "\\pi = TR - TC =  x_1 P_1(x_1) + x_2 P_2(x_2) - \\left( c_x\\cdot (x_1 + x_2) + c_k k \\right)\n",
    "$$\n",
    "\n",
    "Capacity constraints:\n",
    "$$\n",
    "x_1 \\leq k\n",
    "$$\n",
    "$$\n",
    "x_2 \\leq k\n",
    "$$\n",
    "\n",
    "\n",
    "We have three decision variables: $x_1$,$x_2$ and $k$.\n",
    "\n",
    "\n"
   ]
  },
  {
   "cell_type": "code",
   "execution_count": 12,
   "metadata": {},
   "outputs": [],
   "source": [
    "f = lambda x1,x2: x1 + x2\n",
    "\n",
    "cx = 0.2\n",
    "ck = 1.1\n",
    "P1 = lambda x1: 4 - 1.2 *x1\n",
    "P2 = lambda x2: 3 - 1.4 * x2\n",
    "TR = lambda x1,x2: x1*P1(x1) + x2*P2(x2)\n",
    "C = lambda x1,x2,k: cx*(x1+x2) + ck*k\n",
    "π = lambda x1,x2,k: TR(x1,x2) - C(x1,x2,k)\n",
    "\n",
    "def fun(x):\n",
    "    x1,x2,k = x\n",
    "    return np.array([\n",
    "       k-x1, \n",
    "       k-x2,\n",
    "       π(x1,x2,k)\n",
    "    ])\n",
    "\n",
    "constraints = {\n",
    "    'type':'ineq',\n",
    "    'fun': fun\n",
    "}\n",
    "\n",
    "res = opt.minimize(lambda x: -f(x[0],x[1]), constraints=constraints, x0=(1.0,1.0,1.0))"
   ]
  },
  {
   "cell_type": "code",
   "execution_count": 13,
   "metadata": {},
   "outputs": [
    {
     "data": {
      "text/plain": [
       "     fun: -4.250350153789494\n",
       "     jac: array([-1., -1.,  0.])\n",
       " message: 'Optimization terminated successfully'\n",
       "    nfev: 28\n",
       "     nit: 7\n",
       "    njev: 7\n",
       "  status: 0\n",
       " success: True\n",
       "       x: array([2.26941912, 1.98093103, 2.26941912])"
      ]
     },
     "execution_count": 13,
     "metadata": {},
     "output_type": "execute_result"
    }
   ],
   "source": [
    "res"
   ]
  },
  {
   "cell_type": "code",
   "execution_count": 14,
   "metadata": {},
   "outputs": [
    {
     "name": "stdout",
     "output_type": "stream",
     "text": [
      "x1 = 2.27 x2=1.98 k=2.27 P1=1.28 P2=0.23 \n"
     ]
    }
   ],
   "source": [
    "x1,x2,k = res.x\n",
    "print(\"x1 = {:.2f} x2={:.2f} k={:.2f} P1={:.2f} P2={:.2f} \".format(x1,x2,k,P1(x1),P2(x2)))\n",
    "# P1(res.x[])"
   ]
  },
  {
   "cell_type": "code",
   "execution_count": 11,
   "metadata": {},
   "outputs": [
    {
     "data": {
      "text/plain": [
       "-1.6765540067353868e-09"
      ]
     },
     "execution_count": 11,
     "metadata": {},
     "output_type": "execute_result"
    }
   ],
   "source": [
    "π(x1,x2,k)"
   ]
  },
  {
   "cell_type": "code",
   "execution_count": null,
   "metadata": {},
   "outputs": [],
   "source": []
  }
 ],
 "metadata": {
  "kernelspec": {
   "display_name": "Python 3",
   "language": "python",
   "name": "python3"
  },
  "language_info": {
   "codemirror_mode": {
    "name": "ipython",
    "version": 3
   },
   "file_extension": ".py",
   "mimetype": "text/x-python",
   "name": "python",
   "nbconvert_exporter": "python",
   "pygments_lexer": "ipython3",
   "version": "3.8.3"
  }
 },
 "nbformat": 4,
 "nbformat_minor": 4
}
