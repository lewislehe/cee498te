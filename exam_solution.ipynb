{
 "cells": [
  {
   "cell_type": "markdown",
   "metadata": {},
   "source": [
    "# Run this code before you start"
   ]
  },
  {
   "cell_type": "code",
   "execution_count": 2,
   "metadata": {},
   "outputs": [],
   "source": [
    "import numpy as np\n",
    "import matplotlib.pyplot as plt\n",
    "import scipy.optimize as opt\n",
    "import pandas as pd\n",
    "plt.style.use('ggplot')"
   ]
  },
  {
   "cell_type": "markdown",
   "metadata": {},
   "source": [
    "Write your answers here by modifying this jupyter notebook, writing code, your answers, etc. Add cells wherever you want...just as though it were a homework. You are also free to write answers on paper and turn them in, although that would really only make sense for question 1."
   ]
  },
  {
   "cell_type": "markdown",
   "metadata": {},
   "source": [
    "# 1. Utility (20pt)\n",
    "\n",
    "You have the utility function\n",
    "$$\n",
    "u(x,z) = z - \\alpha \\beta e^{-x/\\beta},\n",
    "$$\n",
    "where $z$ is the numeraire good with a price of $1.\n",
    "\n",
    "Derive the demand and inverse demand functions for the good. Let $y$ be the consumer's disposable income and $p$ be the price."
   ]
  },
  {
   "cell_type": "markdown",
   "metadata": {},
   "source": [
    "### solution\n",
    "$$\n",
    "x(p) = \\beta \\ln(\\alpha/p)\n",
    "$$\n",
    "$$\n",
    "p(x) = \\alpha e^{-x/\\beta}\n",
    "$$"
   ]
  },
  {
   "cell_type": "markdown",
   "metadata": {},
   "source": [
    "# 2 Profit-maximization (25 pts)"
   ]
  },
  {
   "cell_type": "markdown",
   "metadata": {},
   "source": [
    "You are consulting with a rail line who are evaluating 10 projects. The demand function for each route is\n",
    "$$\n",
    "Q(p) = a e^{-bp},\n",
    "$$\n",
    "where $a$ and $b$ vary by route. The routes also have differing marginal and fixed costs. The total cost for a route is $$\\text{total cost} = Q \\times \\text{marginal cost} + \\text{fixed cost}.$$\n",
    "\n",
    "Run the code below to get a DataFrame which contains the $a,b$, marginal cost and fixed cost for each route. "
   ]
  },
  {
   "cell_type": "code",
   "execution_count": 7,
   "metadata": {},
   "outputs": [
    {
     "data": {
      "text/html": [
       "<div>\n",
       "<style scoped>\n",
       "    .dataframe tbody tr th:only-of-type {\n",
       "        vertical-align: middle;\n",
       "    }\n",
       "\n",
       "    .dataframe tbody tr th {\n",
       "        vertical-align: top;\n",
       "    }\n",
       "\n",
       "    .dataframe thead th {\n",
       "        text-align: right;\n",
       "    }\n",
       "</style>\n",
       "<table border=\"1\" class=\"dataframe\">\n",
       "  <thead>\n",
       "    <tr style=\"text-align: right;\">\n",
       "      <th></th>\n",
       "      <th>a</th>\n",
       "      <th>b</th>\n",
       "      <th>marginal_cost</th>\n",
       "      <th>fixed_cost</th>\n",
       "    </tr>\n",
       "    <tr>\n",
       "      <th>route_id</th>\n",
       "      <th></th>\n",
       "      <th></th>\n",
       "      <th></th>\n",
       "      <th></th>\n",
       "    </tr>\n",
       "  </thead>\n",
       "  <tbody>\n",
       "    <tr>\n",
       "      <th>0</th>\n",
       "      <td>6.845224</td>\n",
       "      <td>0.891829</td>\n",
       "      <td>0.223662</td>\n",
       "      <td>2.586870</td>\n",
       "    </tr>\n",
       "    <tr>\n",
       "      <th>1</th>\n",
       "      <td>7.864570</td>\n",
       "      <td>0.590171</td>\n",
       "      <td>0.275613</td>\n",
       "      <td>1.443790</td>\n",
       "    </tr>\n",
       "    <tr>\n",
       "      <th>2</th>\n",
       "      <td>7.463900</td>\n",
       "      <td>0.679448</td>\n",
       "      <td>0.214095</td>\n",
       "      <td>2.772142</td>\n",
       "    </tr>\n",
       "    <tr>\n",
       "      <th>3</th>\n",
       "      <td>6.970670</td>\n",
       "      <td>0.990595</td>\n",
       "      <td>0.172071</td>\n",
       "      <td>3.437737</td>\n",
       "    </tr>\n",
       "    <tr>\n",
       "      <th>4</th>\n",
       "      <td>5.599369</td>\n",
       "      <td>0.704056</td>\n",
       "      <td>0.355745</td>\n",
       "      <td>2.496507</td>\n",
       "    </tr>\n",
       "    <tr>\n",
       "      <th>5</th>\n",
       "      <td>6.811178</td>\n",
       "      <td>0.666130</td>\n",
       "      <td>0.264091</td>\n",
       "      <td>3.818397</td>\n",
       "    </tr>\n",
       "    <tr>\n",
       "      <th>6</th>\n",
       "      <td>6.406284</td>\n",
       "      <td>0.782917</td>\n",
       "      <td>0.168269</td>\n",
       "      <td>1.778970</td>\n",
       "    </tr>\n",
       "    <tr>\n",
       "      <th>7</th>\n",
       "      <td>5.749816</td>\n",
       "      <td>0.926586</td>\n",
       "      <td>0.176636</td>\n",
       "      <td>2.447017</td>\n",
       "    </tr>\n",
       "    <tr>\n",
       "      <th>8</th>\n",
       "      <td>6.670624</td>\n",
       "      <td>0.937403</td>\n",
       "      <td>0.241171</td>\n",
       "      <td>2.195415</td>\n",
       "    </tr>\n",
       "    <tr>\n",
       "      <th>9</th>\n",
       "      <td>7.061656</td>\n",
       "      <td>0.710132</td>\n",
       "      <td>0.250966</td>\n",
       "      <td>2.646237</td>\n",
       "    </tr>\n",
       "  </tbody>\n",
       "</table>\n",
       "</div>"
      ],
      "text/plain": [
       "                 a         b  marginal_cost  fixed_cost\n",
       "route_id                                               \n",
       "0         6.845224  0.891829       0.223662    2.586870\n",
       "1         7.864570  0.590171       0.275613    1.443790\n",
       "2         7.463900  0.679448       0.214095    2.772142\n",
       "3         6.970670  0.990595       0.172071    3.437737\n",
       "4         5.599369  0.704056       0.355745    2.496507\n",
       "5         6.811178  0.666130       0.264091    3.818397\n",
       "6         6.406284  0.782917       0.168269    1.778970\n",
       "7         5.749816  0.926586       0.176636    2.447017\n",
       "8         6.670624  0.937403       0.241171    2.195415\n",
       "9         7.061656  0.710132       0.250966    2.646237"
      ]
     },
     "execution_count": 7,
     "metadata": {},
     "output_type": "execute_result"
    }
   ],
   "source": [
    "from numpy import random\n",
    "from scipy.stats import beta\n",
    "random.seed(20) #this ensures that your dataframe and mine will be the same even though they are randomly generated\n",
    "N= 10\n",
    "rv = beta(2,2)\n",
    "df = pd.DataFrame({'a': 5 + 3*rv.rvs(N),'b': .5 +rv.rvs(N)/2,'marginal_cost': .1 +rv.rvs(N)/3,'fixed_cost': 1+rv.rvs(N)*3})\n",
    "df.index.rename('route_id',inplace=True)\n",
    "df"
   ]
  },
  {
   "cell_type": "markdown",
   "metadata": {},
   "source": [
    "Use the `df.apply` and `opt.minimize_scalar` functions to calculate the optimal price to charge for each market. Add these solutions as columns named `p*` and `profit` to the DataFrame `df` and print out `df`."
   ]
  },
  {
   "cell_type": "markdown",
   "metadata": {},
   "source": [
    "### answer "
   ]
  },
  {
   "cell_type": "code",
   "execution_count": 8,
   "metadata": {},
   "outputs": [
    {
     "data": {
      "text/html": [
       "<div>\n",
       "<style scoped>\n",
       "    .dataframe tbody tr th:only-of-type {\n",
       "        vertical-align: middle;\n",
       "    }\n",
       "\n",
       "    .dataframe tbody tr th {\n",
       "        vertical-align: top;\n",
       "    }\n",
       "\n",
       "    .dataframe thead th {\n",
       "        text-align: right;\n",
       "    }\n",
       "</style>\n",
       "<table border=\"1\" class=\"dataframe\">\n",
       "  <thead>\n",
       "    <tr style=\"text-align: right;\">\n",
       "      <th></th>\n",
       "      <th>a</th>\n",
       "      <th>b</th>\n",
       "      <th>marginal_cost</th>\n",
       "      <th>fixed_cost</th>\n",
       "      <th>p*</th>\n",
       "      <th>profit</th>\n",
       "    </tr>\n",
       "    <tr>\n",
       "      <th>route_id</th>\n",
       "      <th></th>\n",
       "      <th></th>\n",
       "      <th></th>\n",
       "      <th></th>\n",
       "      <th></th>\n",
       "      <th></th>\n",
       "    </tr>\n",
       "  </thead>\n",
       "  <tbody>\n",
       "    <tr>\n",
       "      <th>0</th>\n",
       "      <td>6.845224</td>\n",
       "      <td>0.891829</td>\n",
       "      <td>0.223662</td>\n",
       "      <td>2.586870</td>\n",
       "      <td>1.344953</td>\n",
       "      <td>-0.273828</td>\n",
       "    </tr>\n",
       "    <tr>\n",
       "      <th>1</th>\n",
       "      <td>7.864570</td>\n",
       "      <td>0.590171</td>\n",
       "      <td>0.275613</td>\n",
       "      <td>1.443790</td>\n",
       "      <td>1.970037</td>\n",
       "      <td>2.722607</td>\n",
       "    </tr>\n",
       "    <tr>\n",
       "      <th>2</th>\n",
       "      <td>7.463900</td>\n",
       "      <td>0.679448</td>\n",
       "      <td>0.214095</td>\n",
       "      <td>2.772142</td>\n",
       "      <td>1.685879</td>\n",
       "      <td>0.721996</td>\n",
       "    </tr>\n",
       "    <tr>\n",
       "      <th>3</th>\n",
       "      <td>6.970670</td>\n",
       "      <td>0.990595</td>\n",
       "      <td>0.172071</td>\n",
       "      <td>3.437737</td>\n",
       "      <td>1.181565</td>\n",
       "      <td>-1.254719</td>\n",
       "    </tr>\n",
       "    <tr>\n",
       "      <th>4</th>\n",
       "      <td>5.599369</td>\n",
       "      <td>0.704056</td>\n",
       "      <td>0.355745</td>\n",
       "      <td>2.496507</td>\n",
       "      <td>1.776087</td>\n",
       "      <td>-0.218986</td>\n",
       "    </tr>\n",
       "    <tr>\n",
       "      <th>5</th>\n",
       "      <td>6.811178</td>\n",
       "      <td>0.666130</td>\n",
       "      <td>0.264091</td>\n",
       "      <td>3.818397</td>\n",
       "      <td>1.765298</td>\n",
       "      <td>-0.663625</td>\n",
       "    </tr>\n",
       "    <tr>\n",
       "      <th>6</th>\n",
       "      <td>6.406284</td>\n",
       "      <td>0.782917</td>\n",
       "      <td>0.168269</td>\n",
       "      <td>1.778970</td>\n",
       "      <td>1.445543</td>\n",
       "      <td>0.859679</td>\n",
       "    </tr>\n",
       "    <tr>\n",
       "      <th>7</th>\n",
       "      <td>5.749816</td>\n",
       "      <td>0.926586</td>\n",
       "      <td>0.176636</td>\n",
       "      <td>2.447017</td>\n",
       "      <td>1.255866</td>\n",
       "      <td>-0.508840</td>\n",
       "    </tr>\n",
       "    <tr>\n",
       "      <th>8</th>\n",
       "      <td>6.670624</td>\n",
       "      <td>0.937403</td>\n",
       "      <td>0.241171</td>\n",
       "      <td>2.195415</td>\n",
       "      <td>1.307947</td>\n",
       "      <td>-0.107260</td>\n",
       "    </tr>\n",
       "    <tr>\n",
       "      <th>9</th>\n",
       "      <td>7.061656</td>\n",
       "      <td>0.710132</td>\n",
       "      <td>0.250966</td>\n",
       "      <td>2.646237</td>\n",
       "      <td>1.659155</td>\n",
       "      <td>0.414834</td>\n",
       "    </tr>\n",
       "  </tbody>\n",
       "</table>\n",
       "</div>"
      ],
      "text/plain": [
       "                 a         b  marginal_cost  fixed_cost        p*    profit\n",
       "route_id                                                                   \n",
       "0         6.845224  0.891829       0.223662    2.586870  1.344953 -0.273828\n",
       "1         7.864570  0.590171       0.275613    1.443790  1.970037  2.722607\n",
       "2         7.463900  0.679448       0.214095    2.772142  1.685879  0.721996\n",
       "3         6.970670  0.990595       0.172071    3.437737  1.181565 -1.254719\n",
       "4         5.599369  0.704056       0.355745    2.496507  1.776087 -0.218986\n",
       "5         6.811178  0.666130       0.264091    3.818397  1.765298 -0.663625\n",
       "6         6.406284  0.782917       0.168269    1.778970  1.445543  0.859679\n",
       "7         5.749816  0.926586       0.176636    2.447017  1.255866 -0.508840\n",
       "8         6.670624  0.937403       0.241171    2.195415  1.307947 -0.107260\n",
       "9         7.061656  0.710132       0.250966    2.646237  1.659155  0.414834"
      ]
     },
     "execution_count": 8,
     "metadata": {},
     "output_type": "execute_result"
    }
   ],
   "source": [
    "def profit(p,row):\n",
    "    Q = row.a*np.exp(-row.b*p)\n",
    "    return Q*(p-row.marginal_cost) - row.fixed_cost\n",
    "\n",
    "def f(row):\n",
    "    res= opt.minimize_scalar(lambda p: -profit(p,row))\n",
    "    return [res.x,-res.fun]\n",
    "df[['p*','profit']] = df.apply(f,result_type='expand',axis=1)\n",
    "df"
   ]
  },
  {
   "cell_type": "markdown",
   "metadata": {},
   "source": [
    "# 3 Travel pass (25pts)\n",
    "\n",
    "Suppose that a consumer has an indirect utility function given by\n",
    "$$\n",
    "v(p,m) = m + \\gamma \\theta e^{-p/\\theta}\n",
    "$$\n",
    "where $m$ is their disposble income, $p$ is the price of a subway ride and $\\theta$ is a taste parameter reflecting the intensity of desire for subway rides.\n",
    "\n",
    "The consumer has a \"raw\" income of $y$. The price of an unlimited ride pass is $T$.\n",
    "\n",
    "For the following problem, run the code below to store the parameters."
   ]
  },
  {
   "cell_type": "code",
   "execution_count": 4,
   "metadata": {},
   "outputs": [],
   "source": [
    "p = .6\n",
    "T = 5\n",
    "y = 20\n",
    "γ= 12"
   ]
  },
  {
   "cell_type": "markdown",
   "metadata": {},
   "source": [
    "For what value of $\\theta$ is the consumer indifferent between buying a pass an not buying one? \n",
    "\n",
    "**Hint**: Use the `opt.root_scalar` function. To come up with a guess `x0` and a `bracket` for `opt.root_scalar` to search, let $v_1(\\theta)$ give the utility of someone with taste parameter $\\theta$ who *does not* buy a pass, and $v_0(\\theta)$ the utility of someone who *does* buy a pass. Then plot $v_1(\\theta) - v_2(\\theta)$"
   ]
  },
  {
   "cell_type": "code",
   "execution_count": 5,
   "metadata": {},
   "outputs": [
    {
     "data": {
      "text/plain": [
       "      converged: True\n",
       "           flag: 'converged'\n",
       " function_calls: 10\n",
       "     iterations: 9\n",
       "           root: 0.7695346362512414"
      ]
     },
     "execution_count": 5,
     "metadata": {},
     "output_type": "execute_result"
    }
   ],
   "source": [
    "v = lambda p,m,θ: m + γ*θ*np.exp(-p/θ)\n",
    "opt.root_scalar(lambda θ: v(p,y,θ) - v(0,y-T,θ),bracket=[.1,2])"
   ]
  },
  {
   "cell_type": "markdown",
   "metadata": {},
   "source": [
    "# 4 Logit\n",
    "\n",
    "You're running a busline between two places. There are two groups: students and workers. The population of workers is $N_{\\text{worker}}$ and that of students is $N_{\\text{student}}$.\n",
    "\n",
    "The utility of students is\n",
    "\n",
    "$$\n",
    "V_{\\text{bus}}^s = \\alpha_{\\text{bus}}^s + \\beta_{T,\\text{bus}}^s T_{\\text{bus}} + \\beta_M^s M_{\\text{bus}} \\quad \\quad \\text{(bus)}\n",
    "$$\n",
    "\n",
    "$$\n",
    "V_{\\text{car}}^s = \\beta_{T,\\text{car}}^s T_{\\text{car}} + \\beta_M^s M_{\\text{car}} \\quad \\quad \\text{(car)}.\n",
    "$$\n",
    "\n",
    "for workers it is \n",
    "\n",
    "$$\n",
    "V_{\\text{bus}}^w = \\alpha_{\\text{bus}}^w + \\beta_{T,\\text{bus}}^w T_{\\text{bus}} + \\beta_M^w M_{\\text{bus}} \\quad \\quad \\text{(bus)}\n",
    "$$\n",
    "\n",
    "$$\n",
    "V_{\\text{car}}^w = \\beta_{T,\\text{car}}^w T_{\\text{car}} + \\beta_M^w M_{\\text{car}} \\quad \\quad \\text{(car)},\n",
    "$$\n",
    "\n",
    "\n",
    "So we see that, for both groups, the coefficient of time spent on the bus is different than time spent in car. The particular values of the above parameters are written below in python code. "
   ]
  },
  {
   "cell_type": "code",
   "execution_count": 16,
   "metadata": {},
   "outputs": [],
   "source": [
    "#student parameters\n",
    "βTCarStudent = -3\n",
    "βTBusStudent = -4\n",
    "βMStudent = -2\n",
    "αBusStudent = -1\n",
    "NStudent= 1000\n",
    "\n",
    "#worker parameters\n",
    "βTCarWorker = -3\n",
    "βTBusWorker = -5\n",
    "βMWorker = -1\n",
    "αBusWorker = -.5\n",
    "NWorker=1500"
   ]
  },
  {
   "cell_type": "markdown",
   "metadata": {},
   "source": [
    "The defined attributes of bus and car are as follows. "
   ]
  },
  {
   "cell_type": "code",
   "execution_count": 17,
   "metadata": {},
   "outputs": [],
   "source": [
    "TCar = .5\n",
    "TBus = 1\n",
    "MCar = 4"
   ]
  },
  {
   "cell_type": "markdown",
   "metadata": {},
   "source": [
    "### 4 (a) (15pts)\n",
    "\n",
    "Below, **plot the *direct* demand curves for Bus for each group, and for both groups together.** That is, I want a single plot with $M_b$ on the horizontal axis, rides on the vertical axis and three curves. Make the curves called `QBusWorker`, `QBusStudent`, `QTotal.` Make them, respectively, red, green, and blue. Include a legend.\n",
    "\n",
    "Below I have gotten you started with three functions. Feel free to add to this code how you will, or not use it at all."
   ]
  },
  {
   "cell_type": "code",
   "execution_count": 18,
   "metadata": {},
   "outputs": [
    {
     "data": {
      "text/plain": [
       "Text(0, 0.5, 'Q')"
      ]
     },
     "execution_count": 18,
     "metadata": {},
     "output_type": "execute_result"
    },
    {
     "data": {
      "image/png": "[encoded data removed]",
      "text/plain": [
       "<Figure size 432x288 with 1 Axes>"
      ]
     },
     "metadata": {},
     "output_type": "display_data"
    }
   ],
   "source": [
    "def QBusStudent(Mb):\n",
    "    Vbus = αBusStudent + βTBusStudent*TBus + βMStudent*Mb\n",
    "    Vcar = βTCarStudent*TCar + βMStudent*MCar\n",
    "    return NStudent*np.exp(Vbus)/(np.exp(Vbus)+np.exp(Vcar))\n",
    "\n",
    "def QBusWorker(Mb):\n",
    "    Vbus = αBusWorker + βTBusWorker*TBus + βMWorker*Mb\n",
    "    Vcar = βTCarWorker*TCar + βMWorker*MCar\n",
    "    return NWorker*np.exp(Vbus)/(np.exp(Vbus)+np.exp(Vcar))\n",
    "\n",
    "def QTotal(Mb):\n",
    "    return QBusStudent(Mb) + QBusWorker(Mb)\n",
    "\n",
    "Mbs = np.linspace(.1,3,30)\n",
    "Qs = QTotal(Mbs)\n",
    "plt.plot(Mbs,QBusWorker(Mbs),color='red',label='Worker')\n",
    "plt.plot(Mbs,QBusStudent(Mbs),color='green',label='Student')\n",
    "plt.plot(Mbs,QTotal(Mbs),color='blue',label='Total')\n",
    "plt.legend()\n",
    "plt.xlabel(\"Mb\")\n",
    "plt.ylabel(\"Q\")"
   ]
  },
  {
   "cell_type": "markdown",
   "metadata": {},
   "source": [
    "### 4 (b) (15pts)\n",
    "Choose the price, $M_b^*$, that maximizes total ridership subject to a break-even constraint. Use `opt.minimize`."
   ]
  },
  {
   "cell_type": "code",
   "execution_count": 19,
   "metadata": {},
   "outputs": [
    {
     "data": {
      "text/plain": [
       "     fun: array([-1461.06887767])\n",
       "     jac: array([414.4781189])\n",
       " message: 'Optimization terminated successfully'\n",
       "    nfev: 14\n",
       "     nit: 6\n",
       "    njev: 6\n",
       "  status: 0\n",
       " success: True\n",
       "       x: array([0.68443043])"
      ]
     },
     "execution_count": 19,
     "metadata": {},
     "output_type": "execute_result"
    }
   ],
   "source": [
    "TC = 1000\n",
    "def fun(Mb):\n",
    "    return Mb*QTotal(Mb) - TC\n",
    "\n",
    "constraints = {\n",
    "    'type':'ineq',\n",
    "    'fun':fun\n",
    "}\n",
    "\n",
    "\n",
    "opt.minimize(lambda Mbs: -QTotal(Mbs),x0=1.5, constraints=constraints)"
   ]
  }
 ],
 "metadata": {
  "kernelspec": {
   "display_name": "Python 3",
   "language": "python",
   "name": "python3"
  },
  "language_info": {
   "codemirror_mode": {
    "name": "ipython",
    "version": 3
   },
   "file_extension": ".py",
   "mimetype": "text/x-python",
   "name": "python",
   "nbconvert_exporter": "python",
   "pygments_lexer": "ipython3",
   "version": "3.8.3"
  }
 },
 "nbformat": 4,
 "nbformat_minor": 4
}
