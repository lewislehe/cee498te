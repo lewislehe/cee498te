{
 "cells": [
  {
   "cell_type": "code",
   "execution_count": 3,
   "metadata": {},
   "outputs": [],
   "source": [
    "import scipy.optimize as opt"
   ]
  },
  {
   "cell_type": "markdown",
   "metadata": {},
   "source": [
    "# Question 1"
   ]
  },
  {
   "cell_type": "code",
   "execution_count": 17,
   "metadata": {},
   "outputs": [
    {
     "data": {
      "text/plain": [
       "    fjac: array([[-1.]])\n",
       "     fun: array([0.])\n",
       " message: 'The solution converged.'\n",
       "    nfev: 7\n",
       "     qtf: array([-2.6806708e-09])\n",
       "       r: array([-3.39097601])\n",
       "  status: 1\n",
       " success: True\n",
       "       x: array([7.66693355])"
      ]
     },
     "execution_count": 17,
     "metadata": {},
     "output_type": "execute_result"
    }
   ],
   "source": [
    "α = 10\n",
    "β = 0.5\n",
    "tf =  2\n",
    "γ = 6.\n",
    "κ = 0.5\n",
    "z0 = 1.\n",
    "Q = lambda z: α - β*z\n",
    "Zs = lambda q: z0 + κ*tf*(1+(q/γ)**4)\n"
   ]
  },
  {
   "cell_type": "markdown",
   "metadata": {},
   "source": [
    "## 1(a)"
   ]
  },
  {
   "cell_type": "code",
   "execution_count": 22,
   "metadata": {},
   "outputs": [
    {
     "name": "stdout",
     "output_type": "stream",
     "text": [
      "the equilibrium flow is 7.67 and the equilibrium uzer cost is 4.67\n"
     ]
    }
   ],
   "source": [
    "Zd = lambda q: 1./β*(α - q)#this is the inverse demand function\n",
    "#to solve the problem, we seek Q such that Zs(q)=Zd(q)\n",
    "res = opt.root(lambda q: Zs(q) - Zd(q),x0=7)\n",
    "print(\"the equilibrium flow is {:.2f} and the equilibrium uzer cost is {:.2f}\".format(res.x[0],Zs(res.x[0])))"
   ]
  },
  {
   "cell_type": "markdown",
   "metadata": {},
   "source": [
    "## 1(b)"
   ]
  },
  {
   "cell_type": "code",
   "execution_count": 25,
   "metadata": {},
   "outputs": [
    {
     "name": "stdout",
     "output_type": "stream",
     "text": [
      "the revenue maximizing toll is 9.36\n"
     ]
    }
   ],
   "source": [
    "# when there is a toll τ and a flow q, the user cost is Zs(q) + τ\n",
    "# neeed to write a function Qτ to calculate the equilibrium, conditional on having a certain toll\n",
    "# equilibrium occurs where Zs(q)+τ=Zd(q)\n",
    "def Qτ(τ):\n",
    "    return opt.root(lambda q: Zs(q) + τ - Zd(q),x0=7).x[0]\n",
    "\n",
    "res = opt.minimize(lambda τ:-τ*Qτ(τ),x0=5)\n",
    "print(\"the revenue maximizing toll is {:.2f}\".format(res.x[0]))"
   ]
  },
  {
   "cell_type": "markdown",
   "metadata": {},
   "source": [
    "# 1(c)"
   ]
  },
  {
   "cell_type": "markdown",
   "metadata": {},
   "source": [
    "Since the equilibrium you calculated in 1(a) is larger than 7, if there isn't a toll then a queue will form if the capacity is limited to 7. The cost necessary to keep demand at 7 is $Z^d(7)$."
   ]
  },
  {
   "cell_type": "code",
   "execution_count": 28,
   "metadata": {},
   "outputs": [
    {
     "name": "stdout",
     "output_type": "stream",
     "text": [
      "the toll needed to eliminate queues is 2.15\n",
      "the time spent queueing without a toll would be 4.29\n"
     ]
    }
   ],
   "source": [
    "# the time lo\n",
    "#the user cost due to queueing is \n",
    "ΔZ = Zd(7) - Zs(7)\n",
    "#this is how big a toll would have to be in order to keep demand at 7\n",
    "print(\"the toll needed to eliminate queues is {:.2f}\".format(ΔZ))\n",
    "# use the value of time κ to convert to time\n",
    "print(\"the time spent queueing without a toll would be {:.2f}\".format(ΔZ/κ))"
   ]
  }
 ],
 "metadata": {
  "kernelspec": {
   "display_name": "Python 3",
   "language": "python",
   "name": "python3"
  },
  "language_info": {
   "codemirror_mode": {
    "name": "ipython",
    "version": 3
   },
   "file_extension": ".py",
   "mimetype": "text/x-python",
   "name": "python",
   "nbconvert_exporter": "python",
   "pygments_lexer": "ipython3",
   "version": "3.8.3"
  }
 },
 "nbformat": 4,
 "nbformat_minor": 4
}
