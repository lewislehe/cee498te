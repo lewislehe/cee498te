{
 "cells": [
  {
   "cell_type": "markdown",
   "metadata": {},
   "source": [
    "# Run this code before you start"
   ]
  },
  {
   "cell_type": "code",
   "execution_count": null,
   "metadata": {},
   "outputs": [],
   "source": [
    "import numpy as np\n",
    "import matplotlib.pyplot as plt\n",
    "import scipy.optimize as opt\n",
    "import pandas as pd\n",
    "plt.style.use('ggplot')"
   ]
  },
  {
   "cell_type": "markdown",
   "metadata": {},
   "source": [
    "Write your answers here by modifying this jupyter notebook, writing code, your answers, etc. Add cells wherever you want...just as though it were a homework. You are also free to write answers on paper and turn them in, although that would really only make sense for question 1."
   ]
  },
  {
   "cell_type": "markdown",
   "metadata": {},
   "source": [
    "# 1. Utility (20pt)\n",
    "\n",
    "You have the utility function\n",
    "$$\n",
    "u(x,z) = z - \\alpha \\beta e^{-x/\\beta},\n",
    "$$\n",
    "where $z$ is the numeraire good with a price of $1.\n",
    "\n",
    "Derive the demand and inverse demand functions for the good. Let $y$ be the consumer's disposable income and $p$ be the price."
   ]
  },
  {
   "cell_type": "markdown",
   "metadata": {},
   "source": [
    "# 2 Profit-maximization (25 pts)"
   ]
  },
  {
   "cell_type": "markdown",
   "metadata": {},
   "source": [
    "You are consulting with a rail line who are evaluating 10 projects. The demand function for each route is\n",
    "$$\n",
    "Q(p) = a e^{-bp},\n",
    "$$\n",
    "where $a$ and $b$ vary by route. The routes also have differing marginal and fixed costs. The total cost for a route is $$\\text{total cost} = Q \\times \\text{marginal cost} + \\text{fixed cost}.$$\n",
    "\n",
    "Run the code below to get a DataFrame which contains the $a,b$, marginal cost and fixed cost for each route. "
   ]
  },
  {
   "cell_type": "code",
   "execution_count": null,
   "metadata": {},
   "outputs": [],
   "source": [
    "from numpy import random\n",
    "from scipy.stats import beta\n",
    "random.seed(20) #this ensures that your dataframe and mine will be the same even though they are randomly generated\n",
    "N= 10\n",
    "rv = beta(2,2)\n",
    "df = pd.DataFrame({'a': 5 + 3*rv.rvs(N),'b': .5 +rv.rvs(N)/2,'marginal_cost': .1 +rv.rvs(N)/3,'fixed_cost': 1+rv.rvs(N)*3})\n",
    "df.index.rename('route_id',inplace=True)\n",
    "df"
   ]
  },
  {
   "cell_type": "markdown",
   "metadata": {},
   "source": [
    "Use the `df.apply` and `opt.minimize_scalar` functions to calculate the optimal price to charge for each market. Add these solutions as columns named `p*` and `profit` to the DataFrame `df` and print out `df`."
   ]
  },
  {
   "cell_type": "markdown",
   "metadata": {},
   "source": [
    "# 3 Travel pass (25pts)\n",
    "\n",
    "Suppose that a consumer has an indirect utility function given by\n",
    "$$\n",
    "v(p,m) = m + \\gamma \\theta e^{-p/\\theta}\n",
    "$$\n",
    "where $m$ is their disposble income, $p$ is the price of a subway ride and $\\theta$ is a taste parameter reflecting the intensity of desire for subway rides.\n",
    "\n",
    "The consumer has a \"raw\" income of $y$. The price of an unlimited ride pass is $T$.\n",
    "\n",
    "For the following problem, run the code below to store the parameters."
   ]
  },
  {
   "cell_type": "code",
   "execution_count": null,
   "metadata": {},
   "outputs": [],
   "source": [
    "p = .6\n",
    "T = 5\n",
    "y = 20\n",
    "γ= 12"
   ]
  },
  {
   "cell_type": "markdown",
   "metadata": {},
   "source": [
    "For what value of $\\theta$ is the consumer indifferent between buying a pass an not buying one? \n",
    "\n",
    "**Hint**: Use the `opt.root_scalar` function. To come up with a guess `x0` and a `bracket` for `opt.root_scalar` to search, let $v_1(\\theta)$ give the utility of someone with taste parameter $\\theta$ who *does not* buy a pass, and $v_0(\\theta)$ the utility of someone who *does* buy a pass. Then plot $v_1(\\theta) - v_2(\\theta)$"
   ]
  },
  {
   "cell_type": "markdown",
   "metadata": {},
   "source": [
    "# 4 Logit\n",
    "\n",
    "You're running a busline between two places. There are two groups: students and workers. The population of workers is $N_{\\text{worker}}$ and that of students is $N_{\\text{student}}$.\n",
    "\n",
    "The utility of students is\n",
    "\n",
    "$$\n",
    "V_{\\text{bus}}^s = \\alpha_{\\text{bus}}^s + \\beta_{T,\\text{bus}}^s T_{\\text{bus}} + \\beta_M^s M_{\\text{bus}} \\quad \\quad \\text{(bus)}\n",
    "$$\n",
    "\n",
    "$$\n",
    "V_{\\text{car}}^s = \\beta_{T,\\text{car}}^s T_{\\text{car}} + \\beta_M^s M_{\\text{car}} \\quad \\quad \\text{(car)}.\n",
    "$$\n",
    "\n",
    "for workers it is \n",
    "\n",
    "$$\n",
    "V_{\\text{bus}}^w = \\alpha_{\\text{bus}}^w + \\beta_{T,\\text{bus}}^w T_{\\text{bus}} + \\beta_M^w M_{\\text{bus}} \\quad \\quad \\text{(bus)}\n",
    "$$\n",
    "\n",
    "$$\n",
    "V_{\\text{car}}^w = \\beta_{T,\\text{car}}^w T_{\\text{car}} + \\beta_M^w M_{\\text{car}} \\quad \\quad \\text{(car)},\n",
    "$$\n",
    "\n",
    "\n",
    "So we see that, for both groups, the coefficient of time spent on the bus is different than time spent in car. The particular values of the above parameters are written below in python code. "
   ]
  },
  {
   "cell_type": "code",
   "execution_count": null,
   "metadata": {},
   "outputs": [],
   "source": [
    "#student parameters\n",
    "βTCarStudent = -3\n",
    "βTBusStudent = -4\n",
    "βMStudent = -2\n",
    "αBusStudent = -1\n",
    "NStudent= 1000\n",
    "\n",
    "#worker parameters\n",
    "βTCarWorker = -3\n",
    "βTBusWorker = -5\n",
    "βMWorker = -1\n",
    "αBusWorker = -.5\n",
    "NWorker=1500"
   ]
  },
  {
   "cell_type": "markdown",
   "metadata": {},
   "source": [
    "The defined attributes of bus and car are as follows. "
   ]
  },
  {
   "cell_type": "code",
   "execution_count": null,
   "metadata": {},
   "outputs": [],
   "source": [
    "TCar = .5\n",
    "TBus = 1\n",
    "MCar = 4"
   ]
  },
  {
   "cell_type": "markdown",
   "metadata": {},
   "source": [
    "### 4 (a) (15pts)\n",
    "\n",
    "Below, **plot the *direct* demand curves for Bus for each group, and for both groups together.** That is, I want a single plot with $M_b$ on the horizontal axis, rides on the vertical axis and three curves. Make the curves called `QBusWorker`, `QBusStudent`, `QTotal.` Make them, respectively, red, green, and blue. Include a legend.\n",
    "\n",
    "Below I have gotten you started with three functions. Feel free to add to this code how you will, or not use it at all."
   ]
  },
  {
   "cell_type": "code",
   "execution_count": null,
   "metadata": {},
   "outputs": [],
   "source": [
    "def QBusStudent(Mb):\n",
    "    return 0\n",
    "\n",
    "def QBusWorker(Mb):\n",
    "    return 0\n",
    "\n",
    "def QTotal(Mb):\n",
    "    return 0\n"
   ]
  },
  {
   "cell_type": "markdown",
   "metadata": {},
   "source": [
    "### 4 (b) (15pts)\n",
    "Choose the price, $M_b^*$, that maximizes total ridership subject to a break-even constraint **if the only cost is a fixed cost of 1000**. Use `opt.minimize`."
   ]
  }
 ],
 "metadata": {
  "kernelspec": {
   "display_name": "Python 3",
   "language": "python",
   "name": "python3"
  },
  "language_info": {
   "codemirror_mode": {
    "name": "ipython",
    "version": 3
   },
   "file_extension": ".py",
   "mimetype": "text/x-python",
   "name": "python",
   "nbconvert_exporter": "python",
   "pygments_lexer": "ipython3",
   "version": "3.8.3"
  }
 },
 "nbformat": 4,
 "nbformat_minor": 4
}
