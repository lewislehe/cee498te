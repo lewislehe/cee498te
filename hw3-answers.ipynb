{
 "cells": [
  {
   "cell_type": "code",
   "execution_count": 3,
   "metadata": {},
   "outputs": [],
   "source": [
    "import numpy as np\n",
    "import pandas as pd\n",
    "import matplotlib.pyplot as plt\n",
    "import scipy.optimize as opt\n",
    "import statsmodels.api as sm\n",
    "plt.style.use('ggplot')"
   ]
  },
  {
   "cell_type": "markdown",
   "metadata": {},
   "source": [
    "# Problem 2"
   ]
  },
  {
   "cell_type": "markdown",
   "metadata": {},
   "source": [
    "## 2 (a)"
   ]
  },
  {
   "cell_type": "code",
   "execution_count": 5,
   "metadata": {},
   "outputs": [
    {
     "data": {
      "image/png": "[encoded data removed]",
      "text/plain": [
       "<Figure size 432x288 with 1 Axes>"
      ]
     },
     "metadata": {},
     "output_type": "display_data"
    }
   ],
   "source": [
    "Tb= 2.5\n",
    "Tc = 1.5\n",
    "Mc = 2\n",
    "\n",
    "def P(Mb):\n",
    "    Vsb =  -4*Tb - 5*Mb\n",
    "    Vsc = 1-3*Tc - 5*Mc\n",
    "    return np.exp(Vsb)/(np.exp(Vsb)+np.exp(Vsc))*1e3\n",
    "Mbs = np.linspace(0,1.8,50)\n",
    "Ps = P(Mbs)\n",
    "plt.plot(Ps,Mbs) #note here I dont get the inverse function, I just created a range of prices and I plot that as the x axis \n",
    "plt.xlabel(\"Q\")\n",
    "plt.ylabel(\"P\")\n",
    "plt.ylim(0,plt.ylim()[1]) #plt.ylim() called without arguments returns the limits, so take the second one to get the upper limit\n",
    "plt.xlim(0,plt.xlim()[1])\n",
    "plt.savefig(\"./hw3-2.pdf\") # this saves the file as a pdf"
   ]
  },
  {
   "cell_type": "markdown",
   "metadata": {},
   "source": [
    "##  2 (b)"
   ]
  },
  {
   "cell_type": "code",
   "execution_count": 6,
   "metadata": {},
   "outputs": [
    {
     "name": "stdout",
     "output_type": "stream",
     "text": [
      "The revenue is 374.53, ridership is 651.89 and optimal price is 0.57.\n"
     ]
    }
   ],
   "source": [
    "res = opt.minimize_scalar(lambda Mb: -P(Mb)*Mb,bounds=(0,np.inf))\n",
    "print(\"The revenue is {:.2f}, ridership is {:.2f} and optimal price is {:.2f}.\".format(-res.fun, -res.fun/res.x,res.x))"
   ]
  },
  {
   "cell_type": "markdown",
   "metadata": {},
   "source": [
    "# Problem 3"
   ]
  },
  {
   "cell_type": "markdown",
   "metadata": {},
   "source": [
    "# 3 a(i)"
   ]
  },
  {
   "cell_type": "code",
   "execution_count": 14,
   "metadata": {},
   "outputs": [
    {
     "name": "stdout",
     "output_type": "stream",
     "text": [
      "Optimization terminated successfully.\n",
      "         Current function value: 0.387862\n",
      "         Iterations 6\n"
     ]
    },
    {
     "data": {
      "text/html": [
       "<table class=\"simpletable\">\n",
       "<caption>Logit Regression Results</caption>\n",
       "<tr>\n",
       "  <th>Dep. Variable:</th>       <td>P_actual</td>     <th>  No. Observations:  </th>   <td>  2000</td>  \n",
       "</tr>\n",
       "<tr>\n",
       "  <th>Model:</th>                 <td>Logit</td>      <th>  Df Residuals:      </th>   <td>  1995</td>  \n",
       "</tr>\n",
       "<tr>\n",
       "  <th>Method:</th>                 <td>MLE</td>       <th>  Df Model:          </th>   <td>     4</td>  \n",
       "</tr>\n",
       "<tr>\n",
       "  <th>Date:</th>            <td>Sat, 06 Mar 2021</td> <th>  Pseudo R-squ.:     </th>   <td>0.3688</td>  \n",
       "</tr>\n",
       "<tr>\n",
       "  <th>Time:</th>                <td>17:11:04</td>     <th>  Log-Likelihood:    </th>  <td> -775.72</td> \n",
       "</tr>\n",
       "<tr>\n",
       "  <th>converged:</th>             <td>True</td>       <th>  LL-Null:           </th>  <td> -1229.0</td> \n",
       "</tr>\n",
       "<tr>\n",
       "  <th>Covariance Type:</th>     <td>nonrobust</td>    <th>  LLR p-value:       </th> <td>6.321e-195</td>\n",
       "</tr>\n",
       "</table>\n",
       "<table class=\"simpletable\">\n",
       "<tr>\n",
       "     <td></td>        <th>coef</th>     <th>std err</th>      <th>z</th>      <th>P>|z|</th>  <th>[0.025</th>    <th>0.975]</th>  \n",
       "</tr>\n",
       "<tr>\n",
       "  <th>const</th>   <td>   -0.5023</td> <td>    0.520</td> <td>   -0.967</td> <td> 0.334</td> <td>   -1.521</td> <td>    0.516</td>\n",
       "</tr>\n",
       "<tr>\n",
       "  <th>t_rail</th>  <td>   -2.9606</td> <td>    0.188</td> <td>  -15.767</td> <td> 0.000</td> <td>   -3.329</td> <td>   -2.593</td>\n",
       "</tr>\n",
       "<tr>\n",
       "  <th>t_truck</th> <td>    2.9542</td> <td>    0.203</td> <td>   14.523</td> <td> 0.000</td> <td>    2.556</td> <td>    3.353</td>\n",
       "</tr>\n",
       "<tr>\n",
       "  <th>c_rail</th>  <td>   -1.4419</td> <td>    0.232</td> <td>   -6.206</td> <td> 0.000</td> <td>   -1.897</td> <td>   -0.987</td>\n",
       "</tr>\n",
       "<tr>\n",
       "  <th>c_truck</th> <td>    1.4622</td> <td>    0.117</td> <td>   12.454</td> <td> 0.000</td> <td>    1.232</td> <td>    1.692</td>\n",
       "</tr>\n",
       "</table>"
      ],
      "text/plain": [
       "<class 'statsmodels.iolib.summary.Summary'>\n",
       "\"\"\"\n",
       "                           Logit Regression Results                           \n",
       "==============================================================================\n",
       "Dep. Variable:               P_actual   No. Observations:                 2000\n",
       "Model:                          Logit   Df Residuals:                     1995\n",
       "Method:                           MLE   Df Model:                            4\n",
       "Date:                Sat, 06 Mar 2021   Pseudo R-squ.:                  0.3688\n",
       "Time:                        17:11:04   Log-Likelihood:                -775.72\n",
       "converged:                       True   LL-Null:                       -1229.0\n",
       "Covariance Type:            nonrobust   LLR p-value:                6.321e-195\n",
       "==============================================================================\n",
       "                 coef    std err          z      P>|z|      [0.025      0.975]\n",
       "------------------------------------------------------------------------------\n",
       "const         -0.5023      0.520     -0.967      0.334      -1.521       0.516\n",
       "t_rail        -2.9606      0.188    -15.767      0.000      -3.329      -2.593\n",
       "t_truck        2.9542      0.203     14.523      0.000       2.556       3.353\n",
       "c_rail        -1.4419      0.232     -6.206      0.000      -1.897      -0.987\n",
       "c_truck        1.4622      0.117     12.454      0.000       1.232       1.692\n",
       "==============================================================================\n",
       "\"\"\""
      ]
     },
     "execution_count": 14,
     "metadata": {},
     "output_type": "execute_result"
    }
   ],
   "source": [
    "data = pd.read_csv(\"logit_truck_rail.csv\",index_col=\"route_index\") #i use the index_col keyword argument to tell pandas  to use the route_index as an index\n",
    "# exogenous data for logit\n",
    "exog = data.drop('P_actual',axis=1) # i can use .drop to drop the P_actual from it. check documentation https://pandas.pydata.org/pandas-docs/stable/reference/api/pandas.DataFrame.drop.html \n",
    "exog = sm.add_constant(exog) # add the one column\n",
    "mod = sm.Logit(data.P_actual,exog)\n",
    "res = mod.fit()\n",
    "res.summary()"
   ]
  },
  {
   "cell_type": "code",
   "execution_count": 17,
   "metadata": {},
   "outputs": [
    {
     "name": "stdout",
     "output_type": "stream",
     "text": [
      "αrail = -0.50 \n",
      " βT,rail = -2.96 \n",
      " βT,truck = -2.95 \n",
      "  βC,rail = -1.44 \n",
      " βC,truck = -1.46\n"
     ]
    }
   ],
   "source": [
    "αrail = res.params.const\n",
    "βTrail = res.params.t_rail\n",
    "βCrail = res.params.c_rail\n",
    "βTtruck = -res.params.t_truck\n",
    "βCtruck = -res.params.c_truck\n",
    "# i can use a new line symbol \\n to force line breaks\n",
    "string = \"αrail = {:.2f} \\n βT,rail = {:.2f} \\n βT,truck = {:.2f} \\n  βC,rail = {:.2f} \\n βC,truck = {:.2f}\"\n",
    "print(string.format(αrail,βTrail,βTtruck,βCrail,βCtruck))"
   ]
  },
  {
   "cell_type": "markdown",
   "metadata": {},
   "source": [
    "# 3 a(ii)"
   ]
  },
  {
   "cell_type": "code",
   "execution_count": 20,
   "metadata": {},
   "outputs": [
    {
     "data": {
      "text/plain": [
       "<matplotlib.legend.Legend at 0x212286fa1c0>"
      ]
     },
     "execution_count": 20,
     "metadata": {},
     "output_type": "execute_result"
    },
    {
     "data": {
      "image/png": "[encoded data removed]",
      "text/plain": [
       "<Figure size 432x288 with 1 Axes>"
      ]
     },
     "metadata": {},
     "output_type": "display_data"
    }
   ],
   "source": [
    "ΔV = exog.dot(res.params)\n",
    "# here is another way to do what I showed you in class\n",
    "import matplotlib.pyplot as plt\n",
    "fig,ax = plt.subplots()\n",
    "ax.scatter(ΔV,data.P_actual,s=.8,alpha=0.5,color='blue',label=\"P_actual\")\n",
    "ax.scatter(ΔV,res.predict(),color='red',s=.8,alpha=0.5,label=\"P_predicted\")\n",
    "ax.set_xlabel('ΔV') \n",
    "ax.set_ylabel('P') \n",
    "ax.set_ylim([0,1])\n",
    "ax.legend()\n",
    "# fig.savefig(\"./hw3-3aii.pdf\")\n"
   ]
  },
  {
   "cell_type": "markdown",
   "metadata": {},
   "source": [
    "# 3(b)(ii)"
   ]
  },
  {
   "cell_type": "code",
   "execution_count": 24,
   "metadata": {},
   "outputs": [
    {
     "data": {
      "text/html": [
       "<div>\n",
       "<style scoped>\n",
       "    .dataframe tbody tr th:only-of-type {\n",
       "        vertical-align: middle;\n",
       "    }\n",
       "\n",
       "    .dataframe tbody tr th {\n",
       "        vertical-align: top;\n",
       "    }\n",
       "\n",
       "    .dataframe thead th {\n",
       "        text-align: right;\n",
       "    }\n",
       "</style>\n",
       "<table border=\"1\" class=\"dataframe\">\n",
       "  <thead>\n",
       "    <tr style=\"text-align: right;\">\n",
       "      <th></th>\n",
       "      <th>t_truck</th>\n",
       "      <th>t_rail</th>\n",
       "      <th>c_truck</th>\n",
       "      <th>market_size</th>\n",
       "      <th>fixed_cost</th>\n",
       "      <th>marginal_cost</th>\n",
       "      <th>c_rail</th>\n",
       "      <th>profit</th>\n",
       "    </tr>\n",
       "    <tr>\n",
       "      <th>route_index</th>\n",
       "      <th></th>\n",
       "      <th></th>\n",
       "      <th></th>\n",
       "      <th></th>\n",
       "      <th></th>\n",
       "      <th></th>\n",
       "      <th></th>\n",
       "      <th></th>\n",
       "    </tr>\n",
       "  </thead>\n",
       "  <tbody>\n",
       "    <tr>\n",
       "      <th>0</th>\n",
       "      <td>1.397970</td>\n",
       "      <td>1.802601</td>\n",
       "      <td>1.471928</td>\n",
       "      <td>8.999524</td>\n",
       "      <td>3.231222</td>\n",
       "      <td>0.202073</td>\n",
       "      <td>1.112730</td>\n",
       "      <td>-1.277079</td>\n",
       "    </tr>\n",
       "    <tr>\n",
       "      <th>1</th>\n",
       "      <td>1.693280</td>\n",
       "      <td>1.611896</td>\n",
       "      <td>1.529285</td>\n",
       "      <td>7.809950</td>\n",
       "      <td>2.276808</td>\n",
       "      <td>0.251122</td>\n",
       "      <td>1.507238</td>\n",
       "      <td>2.117055</td>\n",
       "    </tr>\n",
       "    <tr>\n",
       "      <th>2</th>\n",
       "      <td>1.308932</td>\n",
       "      <td>1.819581</td>\n",
       "      <td>1.640829</td>\n",
       "      <td>7.786981</td>\n",
       "      <td>2.735189</td>\n",
       "      <td>0.188427</td>\n",
       "      <td>1.091472</td>\n",
       "      <td>-1.103607</td>\n",
       "    </tr>\n",
       "    <tr>\n",
       "      <th>3</th>\n",
       "      <td>1.430880</td>\n",
       "      <td>2.092944</td>\n",
       "      <td>1.677400</td>\n",
       "      <td>7.072724</td>\n",
       "      <td>2.764367</td>\n",
       "      <td>0.203187</td>\n",
       "      <td>1.047100</td>\n",
       "      <td>-1.700666</td>\n",
       "    </tr>\n",
       "    <tr>\n",
       "      <th>4</th>\n",
       "      <td>1.387206</td>\n",
       "      <td>2.068974</td>\n",
       "      <td>1.578171</td>\n",
       "      <td>5.806251</td>\n",
       "      <td>1.946992</td>\n",
       "      <td>0.169054</td>\n",
       "      <td>0.994910</td>\n",
       "      <td>-1.178604</td>\n",
       "    </tr>\n",
       "    <tr>\n",
       "      <th>5</th>\n",
       "      <td>1.671288</td>\n",
       "      <td>1.701612</td>\n",
       "      <td>1.388799</td>\n",
       "      <td>9.048791</td>\n",
       "      <td>3.286355</td>\n",
       "      <td>0.114085</td>\n",
       "      <td>1.270615</td>\n",
       "      <td>0.903345</td>\n",
       "    </tr>\n",
       "    <tr>\n",
       "      <th>6</th>\n",
       "      <td>1.357479</td>\n",
       "      <td>1.865834</td>\n",
       "      <td>1.952818</td>\n",
       "      <td>6.844087</td>\n",
       "      <td>2.691690</td>\n",
       "      <td>0.116538</td>\n",
       "      <td>1.126476</td>\n",
       "      <td>-0.526091</td>\n",
       "    </tr>\n",
       "    <tr>\n",
       "      <th>7</th>\n",
       "      <td>1.763820</td>\n",
       "      <td>1.889876</td>\n",
       "      <td>2.007610</td>\n",
       "      <td>7.083875</td>\n",
       "      <td>2.293089</td>\n",
       "      <td>0.186288</td>\n",
       "      <td>1.499284</td>\n",
       "      <td>2.095212</td>\n",
       "    </tr>\n",
       "    <tr>\n",
       "      <th>8</th>\n",
       "      <td>1.220934</td>\n",
       "      <td>1.829205</td>\n",
       "      <td>1.433709</td>\n",
       "      <td>7.470130</td>\n",
       "      <td>2.727808</td>\n",
       "      <td>0.104489</td>\n",
       "      <td>0.941916</td>\n",
       "      <td>-1.652790</td>\n",
       "    </tr>\n",
       "    <tr>\n",
       "      <th>9</th>\n",
       "      <td>1.778424</td>\n",
       "      <td>1.683518</td>\n",
       "      <td>1.529780</td>\n",
       "      <td>4.559574</td>\n",
       "      <td>1.892559</td>\n",
       "      <td>0.144563</td>\n",
       "      <td>1.462656</td>\n",
       "      <td>0.955235</td>\n",
       "    </tr>\n",
       "  </tbody>\n",
       "</table>\n",
       "</div>"
      ],
      "text/plain": [
       "              t_truck    t_rail   c_truck  market_size  fixed_cost  \\\n",
       "route_index                                                          \n",
       "0            1.397970  1.802601  1.471928     8.999524    3.231222   \n",
       "1            1.693280  1.611896  1.529285     7.809950    2.276808   \n",
       "2            1.308932  1.819581  1.640829     7.786981    2.735189   \n",
       "3            1.430880  2.092944  1.677400     7.072724    2.764367   \n",
       "4            1.387206  2.068974  1.578171     5.806251    1.946992   \n",
       "5            1.671288  1.701612  1.388799     9.048791    3.286355   \n",
       "6            1.357479  1.865834  1.952818     6.844087    2.691690   \n",
       "7            1.763820  1.889876  2.007610     7.083875    2.293089   \n",
       "8            1.220934  1.829205  1.433709     7.470130    2.727808   \n",
       "9            1.778424  1.683518  1.529780     4.559574    1.892559   \n",
       "\n",
       "             marginal_cost    c_rail    profit  \n",
       "route_index                                     \n",
       "0                 0.202073  1.112730 -1.277079  \n",
       "1                 0.251122  1.507238  2.117055  \n",
       "2                 0.188427  1.091472 -1.103607  \n",
       "3                 0.203187  1.047100 -1.700666  \n",
       "4                 0.169054  0.994910 -1.178604  \n",
       "5                 0.114085  1.270615  0.903345  \n",
       "6                 0.116538  1.126476 -0.526091  \n",
       "7                 0.186288  1.499284  2.095212  \n",
       "8                 0.104489  0.941916 -1.652790  \n",
       "9                 0.144563  1.462656  0.955235  "
      ]
     },
     "execution_count": 24,
     "metadata": {},
     "output_type": "execute_result"
    }
   ],
   "source": [
    "projects = pd.read_csv(\"./investmentOpportunities.csv\",index_col='route_index')\n",
    "\n",
    "def profit(c_rail,row): #note here I do not redefine any variables to the row\n",
    "    V_rail = αrail + βTrail*row.t_rail + βCrail*c_rail\n",
    "    V_truck = βTtruck*row.t_truck + βCtruck*row.c_truck\n",
    "    return (row.market_size*np.exp(V_rail)/(np.exp(V_rail)+np.exp(V_truck))*(c_rail-row.marginal_cost) - row.fixed_cost)\n",
    "\n",
    "def g(row):\n",
    "    res= opt.minimize_scalar(lambda c_rail: -profit(c_rail,row),bracket=(0,10),method='brent')\n",
    "    return [res.x,-res.fun]\n",
    "\n",
    "# no for loop\n",
    "projects[['c_rail','profit']] = projects.apply(g,result_type='expand',axis=1) #add two new columns to the data frame\n",
    "projects"
   ]
  },
  {
   "cell_type": "code",
   "execution_count": 26,
   "metadata": {},
   "outputs": [
    {
     "data": {
      "text/html": [
       "<div>\n",
       "<style scoped>\n",
       "    .dataframe tbody tr th:only-of-type {\n",
       "        vertical-align: middle;\n",
       "    }\n",
       "\n",
       "    .dataframe tbody tr th {\n",
       "        vertical-align: top;\n",
       "    }\n",
       "\n",
       "    .dataframe thead th {\n",
       "        text-align: right;\n",
       "    }\n",
       "</style>\n",
       "<table border=\"1\" class=\"dataframe\">\n",
       "  <thead>\n",
       "    <tr style=\"text-align: right;\">\n",
       "      <th></th>\n",
       "      <th>t_truck</th>\n",
       "      <th>t_rail</th>\n",
       "      <th>c_truck</th>\n",
       "      <th>market_size</th>\n",
       "      <th>fixed_cost</th>\n",
       "      <th>marginal_cost</th>\n",
       "      <th>c_rail</th>\n",
       "      <th>profit</th>\n",
       "    </tr>\n",
       "    <tr>\n",
       "      <th>route_index</th>\n",
       "      <th></th>\n",
       "      <th></th>\n",
       "      <th></th>\n",
       "      <th></th>\n",
       "      <th></th>\n",
       "      <th></th>\n",
       "      <th></th>\n",
       "      <th></th>\n",
       "    </tr>\n",
       "  </thead>\n",
       "  <tbody>\n",
       "    <tr>\n",
       "      <th>1</th>\n",
       "      <td>1.693280</td>\n",
       "      <td>1.611896</td>\n",
       "      <td>1.529285</td>\n",
       "      <td>7.809950</td>\n",
       "      <td>2.276808</td>\n",
       "      <td>0.251122</td>\n",
       "      <td>1.507238</td>\n",
       "      <td>2.117055</td>\n",
       "    </tr>\n",
       "    <tr>\n",
       "      <th>5</th>\n",
       "      <td>1.671288</td>\n",
       "      <td>1.701612</td>\n",
       "      <td>1.388799</td>\n",
       "      <td>9.048791</td>\n",
       "      <td>3.286355</td>\n",
       "      <td>0.114085</td>\n",
       "      <td>1.270615</td>\n",
       "      <td>0.903345</td>\n",
       "    </tr>\n",
       "    <tr>\n",
       "      <th>7</th>\n",
       "      <td>1.763820</td>\n",
       "      <td>1.889876</td>\n",
       "      <td>2.007610</td>\n",
       "      <td>7.083875</td>\n",
       "      <td>2.293089</td>\n",
       "      <td>0.186288</td>\n",
       "      <td>1.499284</td>\n",
       "      <td>2.095212</td>\n",
       "    </tr>\n",
       "    <tr>\n",
       "      <th>9</th>\n",
       "      <td>1.778424</td>\n",
       "      <td>1.683518</td>\n",
       "      <td>1.529780</td>\n",
       "      <td>4.559574</td>\n",
       "      <td>1.892559</td>\n",
       "      <td>0.144563</td>\n",
       "      <td>1.462656</td>\n",
       "      <td>0.955235</td>\n",
       "    </tr>\n",
       "  </tbody>\n",
       "</table>\n",
       "</div>"
      ],
      "text/plain": [
       "              t_truck    t_rail   c_truck  market_size  fixed_cost  \\\n",
       "route_index                                                          \n",
       "1            1.693280  1.611896  1.529285     7.809950    2.276808   \n",
       "5            1.671288  1.701612  1.388799     9.048791    3.286355   \n",
       "7            1.763820  1.889876  2.007610     7.083875    2.293089   \n",
       "9            1.778424  1.683518  1.529780     4.559574    1.892559   \n",
       "\n",
       "             marginal_cost    c_rail    profit  \n",
       "route_index                                     \n",
       "1                 0.251122  1.507238  2.117055  \n",
       "5                 0.114085  1.270615  0.903345  \n",
       "7                 0.186288  1.499284  2.095212  \n",
       "9                 0.144563  1.462656  0.955235  "
      ]
     },
     "execution_count": 26,
     "metadata": {},
     "output_type": "execute_result"
    }
   ],
   "source": [
    "# I can filter the functions with positive profit like this\n",
    "projects[projects.profit>0]"
   ]
  },
  {
   "cell_type": "code",
   "execution_count": 27,
   "metadata": {},
   "outputs": [
    {
     "name": "stdout",
     "output_type": "stream",
     "text": [
      "The profitable ones are 1, 5, 7 and 9.\n"
     ]
    }
   ],
   "source": [
    "print(\"The profitable ones are 1, 5, 7 and 9.\")"
   ]
  }
 ],
 "metadata": {
  "kernelspec": {
   "display_name": "Python 3",
   "language": "python",
   "name": "python3"
  },
  "language_info": {
   "codemirror_mode": {
    "name": "ipython",
    "version": 3
   },
   "file_extension": ".py",
   "mimetype": "text/x-python",
   "name": "python",
   "nbconvert_exporter": "python",
   "pygments_lexer": "ipython3",
   "version": "3.8.3"
  }
 },
 "nbformat": 4,
 "nbformat_minor": 2
}
