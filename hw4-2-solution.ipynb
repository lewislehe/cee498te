{
 "cells": [
  {
   "cell_type": "markdown",
   "metadata": {},
   "source": [
    "# solutions to problem 2"
   ]
  },
  {
   "cell_type": "markdown",
   "metadata": {},
   "source": [
    "# 2(a)"
   ]
  },
  {
   "cell_type": "code",
   "execution_count": 68,
   "metadata": {},
   "outputs": [
    {
     "name": "stdout",
     "output_type": "stream",
     "text": [
      "Q^*= 34.76 p^*=0.97 f^*=9.63\n",
      "Q^*= 34.76 p^*=0.97 f^*=9.63\n"
     ]
    }
   ],
   "source": [
    "import numpy as np\n",
    "import scipy.optimize as opt\n",
    "βp = .25; βw = 4; α = 4; γ = 5; cf = 3\n",
    "Q = lambda p,f: np.exp(α-βp*p-βw/(2*f))\n",
    "\n",
    "#one way to solve it is with the minimize function\n",
    "def fun(x):\n",
    "    p,f = x\n",
    "    return Q(p,f)*p - cf*f - γ\n",
    "res = opt.minimize(\n",
    "    lambda x: -Q(x[0],x[1]),\n",
    "    constraints={'type':'ineq','fun':fun},\n",
    "    x0=(1,5))\n",
    "print(\"Q^*= {:.2f} p^*={:.2f} f^*={:.2f}\"\n",
    "      .format(-res.fun,res.x[0],res.x[1]))\n",
    "\n",
    "#another way to solve it using the pstar and fstar functions of Qstar\n",
    "fstar = lambda Qstar: (Qstar*βw/(2*βp*cf))**(0.5)\n",
    "pstar = lambda Qstar: (α-np.log(Qstar))/βp-(βw*cf/(2*βp*Qstar))**(0.5)\n",
    "fun = lambda Qstar: cf*fstar(Qstar) + γ - pstar(Qstar)*Qstar\n",
    "Qstar = opt.root(fun,x0=40).x[0]\n",
    "print(\"Q^*= {:.2f} p^*={:.2f} f^*={:.2f}\"\n",
    "      .format(Qstar,pstar(Qstar),fstar(Qstar)))"
   ]
  },
  {
   "cell_type": "markdown",
   "metadata": {},
   "source": [
    "# 2(b)"
   ]
  },
  {
   "cell_type": "code",
   "execution_count": 69,
   "metadata": {},
   "outputs": [
    {
     "name": "stdout",
     "output_type": "stream",
     "text": [
      "Q^*= 18.40 p^*=4.00 f^*=22.87\n",
      "Q^*= 18.40 p^*=4.00 f^*=22.87\n"
     ]
    }
   ],
   "source": [
    "import numpy as np\n",
    "import scipy.optimize as opt\n",
    "βp = .25; βw = 4; α = 4; γ = 5; cf = 3\n",
    "Q = lambda p,f: np.exp(α-βp*p-βw/(2*f))\n",
    "\n",
    "#one way to solve it is with the minimize function\n",
    "def fun(x):\n",
    "    p,f = x\n",
    "    return Q(p,f)*p - cf*f - γ\n",
    "res = opt.minimize(\n",
    "    lambda x: -x[1],\n",
    "    constraints={'type':'ineq','fun':fun},\n",
    "    x0=(1,10))\n",
    "pstar = res.x[0]\n",
    "fstar = res.x[1]\n",
    "print(\"Q^*= {:.2f} p^*={:.2f} f^*={:.2f}\"\n",
    "      .format(Q(pstar,fstar),pstar,fstar))\n",
    "\n",
    "#another way to solve it using the pstar and fstar functions of Qstar\n",
    "pstar = 1./βp\n",
    "fstar = lambda Qstar: βw/(2*(α-1-np.log(Qstar)))\n",
    "fun = lambda Qstar: cf*fstar(Qstar) + γ - pstar*Qstar\n",
    "Qstar = opt.root(lambda Q: fun(Q),x0=18).x[0]\n",
    "print(\"Q^*= {:.2f} p^*={:.2f} f^*={:.2f}\"\n",
    "      .format(Qstar,pstar,fstar(Qstar)))"
   ]
  },
  {
   "cell_type": "code",
   "execution_count": 71,
   "metadata": {},
   "outputs": [
    {
     "data": {
      "text/plain": [
       "0.375"
      ]
     },
     "execution_count": 71,
     "metadata": {},
     "output_type": "execute_result"
    }
   ],
   "source": [
    "(2*βp*cf)/βw"
   ]
  },
  {
   "cell_type": "code",
   "execution_count": 72,
   "metadata": {},
   "outputs": [
    {
     "data": {
      "text/plain": [
       "4.0"
      ]
     },
     "execution_count": 72,
     "metadata": {},
     "output_type": "execute_result"
    }
   ],
   "source": [
    "1/βp"
   ]
  },
  {
   "cell_type": "code",
   "execution_count": 73,
   "metadata": {},
   "outputs": [
    {
     "data": {
      "text/plain": [
       "24.0"
      ]
     },
     "execution_count": 73,
     "metadata": {},
     "output_type": "execute_result"
    }
   ],
   "source": [
    "βw*cf/(2*βp)"
   ]
  },
  {
   "cell_type": "code",
   "execution_count": 74,
   "metadata": {},
   "outputs": [
    {
     "data": {
      "text/plain": [
       "4"
      ]
     },
     "execution_count": 74,
     "metadata": {},
     "output_type": "execute_result"
    }
   ],
   "source": [
    "βw"
   ]
  },
  {
   "cell_type": "code",
   "execution_count": null,
   "metadata": {},
   "outputs": [],
   "source": []
  }
 ],
 "metadata": {
  "kernelspec": {
   "display_name": "Python 3",
   "language": "python",
   "name": "python3"
  },
  "language_info": {
   "codemirror_mode": {
    "name": "ipython",
    "version": 3
   },
   "file_extension": ".py",
   "mimetype": "text/x-python",
   "name": "python",
   "nbconvert_exporter": "python",
   "pygments_lexer": "ipython3",
   "version": "3.8.3"
  }
 },
 "nbformat": 4,
 "nbformat_minor": 4
}
