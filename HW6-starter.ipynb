{
 "cells": [
  {
   "cell_type": "code",
   "execution_count": 2,
   "metadata": {},
   "outputs": [],
   "source": [
    "import numpy as np\n",
    "import matplotlib.pyplot as plt\n",
    "import scipy.optimize as opt\n",
    "from scipy.integrate import quad\n",
    "from math import pi\n",
    "plt.style.use(\"ggplot\")"
   ]
  },
  {
   "cell_type": "code",
   "execution_count": null,
   "metadata": {},
   "outputs": [],
   "source": [
    "# PARAMETERS\n",
    "α = 1./3\n",
    "t= 1./2\n",
    "β = 3./5\n",
    "ck= 1./25\n",
    "πa = 1./25\n",
    "y1 = 8.\n",
    "y2 = 5.\n",
    "xs = np.linspace(0,9,40) #the range you should plot"
   ]
  },
  {
   "cell_type": "markdown",
   "metadata": {},
   "source": [
    "# 3 (open city)"
   ]
  },
  {
   "cell_type": "code",
   "execution_count": null,
   "metadata": {},
   "outputs": [],
   "source": [
    "# 3 (open city)\n",
    "ū1 = 5\n",
    "ū2 = 2.8"
   ]
  },
  {
   "cell_type": "markdown",
   "metadata": {},
   "source": [
    "# 4  (closed city)"
   ]
  },
  {
   "cell_type": "code",
   "execution_count": null,
   "metadata": {},
   "outputs": [],
   "source": [
    "# 4  (closed city)\n",
    "N0 = 100"
   ]
  },
  {
   "cell_type": "markdown",
   "metadata": {},
   "source": [
    "# Hints\n",
    "Here the functions just return 0 but if you fill them in then you'll do well."
   ]
  },
  {
   "cell_type": "code",
   "execution_count": null,
   "metadata": {},
   "outputs": [],
   "source": [
    "# create a group\n",
    "class Group:\n",
    "    def __init__(self,y,ū,):\n",
    "        self.y=y\n",
    "        self.ū = ū\n",
    "    \n",
    "    def p̄(self,x):\n",
    "        return 0\n",
    "    \n",
    "    def s̄(self,x):\n",
    "        return 0"
   ]
  },
  {
   "cell_type": "code",
   "execution_count": 4,
   "metadata": {},
   "outputs": [
    {
     "name": "stdout",
     "output_type": "stream",
     "text": [
      "-6\n",
      "7\n"
     ]
    }
   ],
   "source": [
    "# first, note that you can include a one-line if/else in python like this\n",
    "testFun = lambda a,b: a if (a>b) else -a \n",
    "print(testFun(6,7))\n",
    "print(testFun(7,5))\n",
    "#This is useful for creating functions that return, say, the equilibrium\n",
    "#rent, unit size, density, floorspace built, population, land rent etc.\n",
    "#Also, don't forget you can use functions inside each other, \n",
    "# and you can even pass functions as arguments to other functions"
   ]
  }
 ],
 "metadata": {
  "kernelspec": {
   "display_name": "Python 3",
   "language": "python",
   "name": "python3"
  },
  "language_info": {
   "codemirror_mode": {
    "name": "ipython",
    "version": 3
   },
   "file_extension": ".py",
   "mimetype": "text/x-python",
   "name": "python",
   "nbconvert_exporter": "python",
   "pygments_lexer": "ipython3",
   "version": "3.8.3"
  }
 },
 "nbformat": 4,
 "nbformat_minor": 4
}
